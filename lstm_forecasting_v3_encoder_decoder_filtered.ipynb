{
  "cells": [
    {
      "cell_type": "markdown",
      "metadata": {
        "id": "view-in-github",
        "colab_type": "text"
      },
      "source": [
        "<a href=\"https://colab.research.google.com/github/ofakduman/Lstm-forecasting/blob/main/lstm_forecasting_v3_encoder_decoder_filtered.ipynb\" target=\"_parent\"><img src=\"https://colab.research.google.com/assets/colab-badge.svg\" alt=\"Open In Colab\"/></a>"
      ]
    },
    {
      "cell_type": "code",
      "execution_count": 124,
      "metadata": {
        "id": "qOrppxDnXThw",
        "colab": {
          "base_uri": "https://localhost:8080/"
        },
        "outputId": "310637e5-22fa-433f-d45e-fdfa4b37480d"
      },
      "outputs": [
        {
          "output_type": "stream",
          "name": "stdout",
          "text": [
            "Drive already mounted at /content/drive; to attempt to forcibly remount, call drive.mount(\"/content/drive\", force_remount=True).\n"
          ]
        }
      ],
      "source": [
        "import pandas as pd\n",
        "from google.colab import drive\n",
        "drive.mount('/content/drive')"
      ]
    },
    {
      "cell_type": "code",
      "execution_count": 125,
      "metadata": {
        "id": "VMRCeG_OYIK8",
        "colab": {
          "base_uri": "https://localhost:8080/"
        },
        "outputId": "c168078e-9596-4f92-87b1-da20778386f2"
      },
      "outputs": [
        {
          "output_type": "execute_result",
          "data": {
            "text/plain": [
              "24194"
            ]
          },
          "metadata": {},
          "execution_count": 125
        }
      ],
      "source": [
        "df = pd.read_csv(\"/content/drive/MyDrive/LSTM_forecasting/all_data.csv\")\n",
        "len(df)"
      ]
    },
    {
      "cell_type": "code",
      "source": [
        "df.replace(\"Not available\", pd.NA, inplace=True)\n",
        "len(df)\n"
      ],
      "metadata": {
        "colab": {
          "base_uri": "https://localhost:8080/"
        },
        "id": "zJQVw4GGW5iL",
        "outputId": "af1e8075-7986-4f29-dcec-6ffb188f7560"
      },
      "execution_count": 126,
      "outputs": [
        {
          "output_type": "execute_result",
          "data": {
            "text/plain": [
              "24194"
            ]
          },
          "metadata": {},
          "execution_count": 126
        }
      ]
    },
    {
      "cell_type": "code",
      "source": [
        "df_dropped = df.drop(['Conditions', 'Assumed', 'Max.rate(logc.conc / h)', 'Food Name'], axis=1)\n",
        "df_dropped.head()\n",
        "len(df_dropped.dropna())"
      ],
      "metadata": {
        "colab": {
          "base_uri": "https://localhost:8080/"
        },
        "id": "CfQ_9iRZW_5q",
        "outputId": "eda0de2f-4dbf-486c-80a1-425a78baad3b"
      },
      "execution_count": 127,
      "outputs": [
        {
          "output_type": "execute_result",
          "data": {
            "text/plain": [
              "10078"
            ]
          },
          "metadata": {},
          "execution_count": 127
        }
      ]
    },
    {
      "cell_type": "code",
      "source": [
        "df_dropped.dropna(inplace=True)\n",
        "len(df_dropped)\n",
        "cleaned_df = df_dropped.drop_duplicates(subset='Record ID', keep='first')"
      ],
      "metadata": {
        "id": "Ln0AQcQiXFZY"
      },
      "execution_count": 128,
      "outputs": []
    },
    {
      "cell_type": "markdown",
      "metadata": {
        "id": "hVEWZXTnZQqs"
      },
      "source": [
        "### logcs nan olanlari at, record ID tekrarlanmasin\n",
        "### Food name kolonunu kaldir\n",
        "### Temperature Nan lari kaldir ve temprature kolonundaki logcs degerleri gibi olan degerleri kaldir deger int e cevriliyorsa kalsin\n",
        "### Nanlari kaldir Aw deki\n",
        "### Assumed kolonunu kaldir\n",
        "### Conditions kolonunu kaldir\n",
        "### Max.rate(logc.conc / h) kolonunu kaldir"
      ]
    },
    {
      "cell_type": "code",
      "execution_count": 128,
      "metadata": {
        "id": "aSUUTBewYpqE"
      },
      "outputs": [],
      "source": []
    },
    {
      "cell_type": "code",
      "execution_count": 128,
      "metadata": {
        "id": "Us7PxDgRaS5E"
      },
      "outputs": [],
      "source": []
    },
    {
      "cell_type": "code",
      "execution_count": 128,
      "metadata": {
        "id": "U6lNY4VodF20"
      },
      "outputs": [],
      "source": []
    },
    {
      "cell_type": "code",
      "execution_count": 129,
      "metadata": {
        "id": "mfSjI3OIiwo7"
      },
      "outputs": [],
      "source": [
        "def analyze_logcs(logcs_str):\n",
        "    # Değerleri ; ile böl ve float'a çevir\n",
        "    values = list(map(float, logcs_str.split(';')))\n",
        "\n",
        "    # Zaman ve populasyon değerlerini ayır\n",
        "    times = values[::2]\n",
        "    populations = values[1::2]\n",
        "\n",
        "    # Populasyon değerlerinin artıp artmadığını kontrol et\n",
        "    increases = 0\n",
        "    decreases = 0\n",
        "    for i in range(1, len(populations)):\n",
        "        if populations[i] > populations[i-1]:\n",
        "            increases += 1\n",
        "        elif populations[i] < populations[i-1]:\n",
        "            decreases += 1\n",
        "\n",
        "    # Toplam değer sayısı ve artma/azalma sayılarına göre bir sonuç döndür\n",
        "    return {\n",
        "        \"total_values\": len(populations),\n",
        "        \"increases\": increases,\n",
        "        \"decreases\": decreases\n",
        "    }\n",
        "\n",
        "# `Logcs` kolonunu analiz edelim\n",
        "cleaned_df_copy = cleaned_df.copy()\n",
        "results = cleaned_df['Logcs'].apply(analyze_logcs)\n",
        "\n",
        "# Sonuçları yeni kolonlarda saklayalım\n",
        "cleaned_df_copy['Total Values'] = results.apply(lambda x: x[\"total_values\"])\n",
        "cleaned_df_copy['Increases'] = results.apply(lambda x: x[\"increases\"])\n",
        "cleaned_df_copy['Decreases'] = results.apply(lambda x: x[\"decreases\"])"
      ]
    },
    {
      "cell_type": "code",
      "execution_count": 130,
      "metadata": {
        "id": "VszhhJ0hjtFE",
        "colab": {
          "base_uri": "https://localhost:8080/",
          "height": 1000
        },
        "outputId": "bac0109d-6c92-4053-fd54-79437fc5529c"
      },
      "outputs": [
        {
          "output_type": "display_data",
          "data": {
            "text/plain": [
              "<Figure size 1000x400 with 1 Axes>"
            ],
            "image/png": "[encoded data removed]"
          },
          "metadata": {}
        },
        {
          "output_type": "stream",
          "name": "stdout",
          "text": [
            "\n",
            "Temperature (C) - Statistical Species:\n",
            "Min: 0.0\n",
            "Max: 103.0\n",
            "Mean: 22.02159850140493\n",
            "Median: 19.58\n"
          ]
        },
        {
          "output_type": "display_data",
          "data": {
            "text/plain": [
              "<Figure size 1000x400 with 1 Axes>"
            ],
            "image/png": "[encoded data removed]"
          },
          "metadata": {}
        },
        {
          "output_type": "stream",
          "name": "stdout",
          "text": [
            "\n",
            "Aw - Statistical Species:\n",
            "Min: 0.24\n",
            "Max: 0.999\n",
            "Mean: 0.955194817358726\n",
            "Median: 0.986\n"
          ]
        },
        {
          "output_type": "display_data",
          "data": {
            "text/plain": [
              "<Figure size 1000x400 with 1 Axes>"
            ],
            "image/png": "[encoded data removed]"
          },
          "metadata": {}
        },
        {
          "output_type": "stream",
          "name": "stdout",
          "text": [
            "\n",
            "pH - Statistical Species:\n",
            "Min: 3.3\n",
            "Max: 9.9\n",
            "Mean: 6.048773025288792\n",
            "Median: 6.0\n"
          ]
        },
        {
          "output_type": "display_data",
          "data": {
            "text/plain": [
              "<Figure size 1000x400 with 1 Axes>"
            ],
            "image/png": "[encoded data removed]"
          },
          "metadata": {}
        },
        {
          "output_type": "stream",
          "name": "stdout",
          "text": [
            "\n",
            "Total Values - Statistical Species:\n",
            "Min: 2\n",
            "Max: 48\n",
            "Mean: 10.848993288590604\n",
            "Median: 9.0\n"
          ]
        },
        {
          "output_type": "display_data",
          "data": {
            "text/plain": [
              "<Figure size 1000x400 with 1 Axes>"
            ],
            "image/png": "[encoded data removed]"
          },
          "metadata": {}
        },
        {
          "output_type": "stream",
          "name": "stdout",
          "text": [
            "\n",
            "Increases - Statistical Species:\n",
            "Min: 0\n",
            "Max: 28\n",
            "Mean: 5.041488712629652\n",
            "Median: 4.0\n"
          ]
        },
        {
          "output_type": "display_data",
          "data": {
            "text/plain": [
              "<Figure size 1000x400 with 1 Axes>"
            ],
            "image/png": "[encoded data removed]"
          },
          "metadata": {}
        },
        {
          "output_type": "stream",
          "name": "stdout",
          "text": [
            "\n",
            "Decreases - Statistical Species:\n",
            "Min: 0\n",
            "Max: 23\n",
            "Mean: 3.8550945698596704\n",
            "Median: 3.0\n"
          ]
        }
      ],
      "source": [
        "import pandas as pd\n",
        "import matplotlib.pyplot as plt\n",
        "import seaborn as sns\n",
        "from scipy.stats import normaltest\n",
        "\n",
        "# Veri setinizi yükleyin\n",
        "# cleaned_df_copy = pd.read_csv('your_dataset.csv')  # Örnek veri seti yolu\n",
        "# Sayısal sütunları seçin (örnek olarak sadece sayısal verileri içeren sütunlar listelenmiştir)\n",
        "numeric_columns = ['Temperature (C)', 'Aw', 'pH', 'Total Values', 'Increases', 'Decreases']\n",
        "for col in numeric_columns:\n",
        "    # Sayısal olmayan verileri ve NaN değerleri temizle\n",
        "    cleaned_data = cleaned_df_copy[col].apply(pd.to_numeric, errors='coerce').dropna()\n",
        "    squared_data = cleaned_data ** 2\n",
        "\n",
        "    # Histogramı çiz\n",
        "    plt.figure(figsize=(10, 4))\n",
        "    sns.histplot(cleaned_data, kde=True)\n",
        "    plt.title(f'Histogram of {col}')\n",
        "    plt.xlabel(col)\n",
        "    plt.ylabel('Frequency')\n",
        "    plt.show()\n",
        "\n",
        "    # Temel İstatistiksel Özellikler\n",
        "    print(f\"\\n{col} - Statistical Species:\")\n",
        "    print(f\"Min: {cleaned_data.min()}\")\n",
        "    print(f\"Max: {cleaned_data.max()}\")\n",
        "    print(f\"Mean: {cleaned_data.mean()}\")\n",
        "    print(f\"Median: {cleaned_data.median()}\")\n",
        "\n",
        "\n"
      ]
    },
    {
      "cell_type": "code",
      "execution_count": 131,
      "metadata": {
        "id": "kvkzspI4kNnf",
        "colab": {
          "base_uri": "https://localhost:8080/"
        },
        "outputId": "c6116a8b-26c7-4351-b585-24d695fe2197"
      },
      "outputs": [
        {
          "output_type": "execute_result",
          "data": {
            "text/plain": [
              "2806"
            ]
          },
          "metadata": {},
          "execution_count": 131
        }
      ],
      "source": [
        "trashold_sample_value = 5\n",
        "df = cleaned_df_copy[cleaned_df_copy['Total Values'] > trashold_sample_value]\n",
        "df = df[df['Temperature (C)'].apply(lambda x: ';' not in x)]\n",
        "df = df[df['pH'].apply(lambda x: ';' not in x)]\n",
        "df = df[df['Aw'].apply(lambda x: ';' not in x)]\n",
        "len(df)"
      ]
    },
    {
      "cell_type": "code",
      "execution_count": 132,
      "metadata": {
        "id": "5sxmdb8MkOqI"
      },
      "outputs": [],
      "source": [
        "def parse_logcs(logcs_str):\n",
        "    pairs = logcs_str.split(';')\n",
        "    parsed_pairs = []\n",
        "    for i in range(0, len(pairs) - 1, 2):\n",
        "        try:\n",
        "            # Zaman değerini tam sayıya dönüştür\n",
        "            time = float(pairs[i])\n",
        "            # Değer olarak ondalık sayı kullan\n",
        "            value = float(pairs[i + 1])\n",
        "            parsed_pairs.append((time, value))\n",
        "        except ValueError:\n",
        "            # Geçersiz dönüşüm olduğunda bu çifti atla\n",
        "            continue\n",
        "    return parsed_pairs\n",
        "\n",
        "df['Logcs'] = df['Logcs'].apply(parse_logcs)\n"
      ]
    },
    {
      "cell_type": "code",
      "execution_count": 91,
      "metadata": {
        "id": "E2dCrdm9CnSN"
      },
      "outputs": [],
      "source": [
        "# # Yeni filtre\n",
        "# def parse_logcs(logcs_str):\n",
        "#     # String ifadeyi parçalayarak liste haline getir\n",
        "#     try:\n",
        "#         # Kötü niyetli kodların çalıştırılmasını önlemek için güvenli bir yol kullanılıyor\n",
        "#         logcs_list = eval(logcs_str, {'__builtins__': None}, {})\n",
        "#     except:\n",
        "#         logcs_list = []\n",
        "\n",
        "#     # 0 değerlerinin sayısını hesapla\n",
        "#     zero_count = sum(1 for _, value in logcs_list if value == 0)\n",
        "#     return zero_count\n",
        "\n",
        "# # Yeni bir sütun ekleyerek her satır için 0 değerlerinin sayısını hesapla\n",
        "# df['Zero_Count'] = df['Logcs'].apply(parse_logcs)\n",
        "\n",
        "# # 1'den fazla 0 değerine sahip olanları at\n",
        "# df = df[df['Zero_Count'] <= 1]\n",
        "\n",
        "# # Decreases, Increases'tan fazla olanları at\n",
        "# df = df[df['Decreases'] <= df['Increases']]\n",
        "\n",
        "# # Total Values 8'den büyük olanları seç\n",
        "# df = df[df['Total Values'] > 8]\n",
        "\n"
      ]
    },
    {
      "cell_type": "code",
      "execution_count": 92,
      "metadata": {
        "id": "XaX81EpB732p"
      },
      "outputs": [],
      "source": [
        "# #BlackList\n",
        "# import numpy as np\n",
        "# anomalies_path = \"/content/drive/MyDrive/LSTM_forecasting/anomalies.npy\"\n",
        "# loaded_anomalies = np.load(anomalies_path)\n",
        "# df_filtered = df[~df['Record ID'].isin(loaded_anomalies)]\n"
      ]
    },
    {
      "cell_type": "code",
      "source": [
        "import pandas as pd\n",
        "\n",
        "# DataFrame'inizi yükleyin (örnek: df = pd.read_csv(\"your_dataframe.csv\"))\n",
        "\n",
        "# Blacklist DataFrame'lerini yükle\n",
        "blacklist_dfs = []\n",
        "for i in range(2, 11):  # 2'den 8'e kadar (dahil) olan dosyalar için\n",
        "    path = f\"/content/drive/MyDrive/LSTM_forecasting/anomalies{i}.csv\"\n",
        "    blacklist_df = pd.read_csv(path, header=None)\n",
        "    blacklist_dfs.append(blacklist_df)\n",
        "\n",
        "# Tüm blacklist'leri birleştir\n",
        "combined_blacklist = pd.concat(blacklist_dfs)[0].tolist()\n",
        "\n",
        "# 'Record ID' sütununun olduğundan emin olun\n",
        "if 'Record ID' in df.columns:\n",
        "    # Blacklist'teki Record ID'leri içermeyen satırları filtrele\n",
        "    df = df[~df['Record ID'].isin(combined_blacklist)]\n",
        "else:\n",
        "    print(\"DataFrame does not have 'Record ID' column.\")\n",
        "\n",
        "# Filtrelenmiş DataFrame'in uzunluğunu yazdır\n",
        "len(df)\n"
      ],
      "metadata": {
        "id": "YmiJv2wscT3C",
        "colab": {
          "base_uri": "https://localhost:8080/"
        },
        "outputId": "f46529f1-2104-4f4e-a0a1-4305befafad8"
      },
      "execution_count": 133,
      "outputs": [
        {
          "output_type": "execute_result",
          "data": {
            "text/plain": [
              "508"
            ]
          },
          "metadata": {},
          "execution_count": 133
        }
      ]
    },
    {
      "cell_type": "code",
      "execution_count": 134,
      "metadata": {
        "id": "KhD81ViXthsd",
        "colab": {
          "base_uri": "https://localhost:8080/"
        },
        "outputId": "f196c8cc-a964-4f41-a337-093a6a8f1848"
      },
      "outputs": [
        {
          "output_type": "execute_result",
          "data": {
            "text/plain": [
              "['model_columns.pkl']"
            ]
          },
          "metadata": {},
          "execution_count": 134
        }
      ],
      "source": [
        "import joblib\n",
        "original_columns = set(df.columns)\n",
        "\n",
        "df = pd.get_dummies(df, columns=['Organism', 'Food category'])\n",
        "all_columns = df.columns\n",
        "joblib.dump(all_columns, 'model_columns.pkl')\n"
      ]
    },
    {
      "cell_type": "code",
      "execution_count": 135,
      "metadata": {
        "id": "DGkkkbQovps1",
        "colab": {
          "base_uri": "https://localhost:8080/"
        },
        "outputId": "92426379-bcd9-41fa-d43b-21ae3aeab679"
      },
      "outputs": [
        {
          "output_type": "execute_result",
          "data": {
            "text/plain": [
              "['scaler.pkl']"
            ]
          },
          "metadata": {},
          "execution_count": 135
        }
      ],
      "source": [
        "import joblib\n",
        "from sklearn.preprocessing import StandardScaler\n",
        "\n",
        "\n",
        "features_to_scale = ['Temperature (C)', 'Aw', 'pH']\n",
        "scaler = StandardScaler()\n",
        "\n",
        "# Normalizasyonu sadece belirli sütunlara uygula\n",
        "df[features_to_scale] = scaler.fit_transform(df[features_to_scale])\n",
        "\n",
        "joblib.dump(scaler, 'scaler.pkl')\n"
      ]
    },
    {
      "cell_type": "code",
      "execution_count": 136,
      "metadata": {
        "id": "tkPOyIR8tym7"
      },
      "outputs": [],
      "source": [
        "import pandas as pd\n",
        "import numpy as np\n",
        "\n",
        "\n",
        "# Hariç tutulacak sütunlar\n",
        "exclude_columns = ['Record ID','Total Values', 'Increases', 'Decreases','Logcs', 'Zero_Count']\n",
        "\n",
        "# all_features listesini oluşturma\n",
        "all_features = [col for col in df.columns if col not in exclude_columns]\n",
        "\n",
        "# Veriyi hazırlama\n",
        "X = []  # Girdiler\n",
        "y = []  # Hedefler\n",
        "\n",
        "for index, row in df.iterrows():\n",
        "    logcs_data = row['Logcs']\n",
        "    # Tüm uygun özellikleri al\n",
        "    features = row[all_features].values\n",
        "    for i in range(len(logcs_data)-1):\n",
        "        X.append(np.concatenate(([logcs_data[i][1]], features)))  # current value and other features\n",
        "        y.append(logcs_data[i+1][1])  # next value\n",
        "\n",
        "X = np.array(X).reshape(-1, 1, len(X[0]))  # (samples, time steps, features)\n",
        "y = np.array(y).reshape(-1, 1)\n",
        "\n",
        "import numpy as np\n",
        "import tensorflow as tf\n",
        "from tensorflow import keras\n",
        "from tensorflow.keras import layers\n",
        "from sklearn.model_selection import train_test_split\n",
        "from tensorflow.keras.callbacks import EarlyStopping\n",
        "import matplotlib.pyplot as plt\n",
        "\n",
        "# Verilerinizi yükleyin veya oluşturun\n",
        "# X ve y verilerini bu aşamada hazırlayın\n",
        "\n",
        "# Verileri eğitim ve test kümesine bölün\n",
        "X_train, X_test, y_train, y_test = train_test_split(X, y, test_size=0.2, random_state=42)\n",
        "\n"
      ]
    },
    {
      "cell_type": "code",
      "execution_count": 137,
      "metadata": {
        "id": "p8jvRPmhu8FO"
      },
      "outputs": [],
      "source": [
        "from sklearn.model_selection import train_test_split\n",
        "X = []\n",
        "Y = []\n",
        "\n",
        "# X_RecordID ve Y_RecordID listelerini oluşturma\n",
        "X_RecordID = []\n",
        "Y_RecordID = []\n",
        "\n",
        "for index, row in df.iterrows():\n",
        "    record_id = row['Record ID']\n",
        "    logcs_data = row['Logcs']\n",
        "\n",
        "    # Tüm uygun özellikleri al\n",
        "    features = row[all_features].values\n",
        "    for i in range(len(logcs_data)-1):\n",
        "        X.append(np.concatenate(([logcs_data[i][1]], features)))\n",
        "        Y.append(logcs_data[i+1][1])  # Y listesini kullan\n",
        "\n",
        "        # RecordID'leri ekleme\n",
        "        X_RecordID.append(record_id)\n",
        "        Y_RecordID.append(record_id)\n",
        "\n",
        "# Numpy dizilerine dönüştürme\n",
        "X = np.array(X).reshape(-1, 1, len(X[0]))\n",
        "Y = np.array(Y).reshape(-1, 1)  # Y dizisini numpy array'e çevirme\n",
        "X_RecordID = np.array(X_RecordID)\n",
        "Y_RecordID = np.array(Y_RecordID)\n",
        "\n",
        "# Veriyi eğitim ve test setlerine ayırma\n",
        "X_train, X_test, Y_train, Y_test, X_train_ids, X_test_ids, Y_train_ids, Y_test_ids = train_test_split(\n",
        "    X, Y, X_RecordID, Y_RecordID, test_size=0.2, random_state=42\n",
        ")\n"
      ]
    },
    {
      "cell_type": "code",
      "source": [
        "\n",
        "X_train"
      ],
      "metadata": {
        "id": "5cr_pM9FVkAV",
        "colab": {
          "base_uri": "https://localhost:8080/"
        },
        "outputId": "c6896022-5386-4d2c-978f-0e7179ce2930"
      },
      "execution_count": 138,
      "outputs": [
        {
          "output_type": "execute_result",
          "data": {
            "text/plain": [
              "array([[[9.67, -0.22493488061525319, 0.4597804853585553, ..., 0, 0, 0]],\n",
              "\n",
              "       [[7.48, 2.775580675744973, 0.23064526714872885, ..., 0, 0, 0]],\n",
              "\n",
              "       [[3.48, -0.35352840445926287, 0.2804572711073868, ..., 0, 0, 0]],\n",
              "\n",
              "       ...,\n",
              "\n",
              "       [[2.72, -1.0093553760637122, 0.4597804853585553, ..., 0, 0, 0]],\n",
              "\n",
              "       [[3.26, -0.8250379918872983, 0.39004367981643423, ..., 0, 0, 0]],\n",
              "\n",
              "       [[4.37, 1.2753228975648598, 0.2605324695239236, ..., 0, 0, 0]]],\n",
              "      dtype=object)"
            ]
          },
          "metadata": {},
          "execution_count": 138
        }
      ]
    },
    {
      "cell_type": "code",
      "execution_count": 139,
      "metadata": {
        "id": "3FQbFqQI2dBT",
        "colab": {
          "base_uri": "https://localhost:8080/",
          "height": 1000
        },
        "outputId": "21f52895-702b-4bd7-cda4-a74d81dfbcbb"
      },
      "outputs": [
        {
          "output_type": "stream",
          "name": "stdout",
          "text": [
            "Epoch 1/30\n",
            "218/218 [==============================] - 7s 10ms/step - loss: 28.3184 - val_loss: 21.4373\n",
            "Epoch 2/30\n",
            "218/218 [==============================] - 1s 4ms/step - loss: 13.9441 - val_loss: 8.7724\n",
            "Epoch 3/30\n",
            "218/218 [==============================] - 1s 4ms/step - loss: 6.7709 - val_loss: 5.6870\n",
            "Epoch 4/30\n",
            "218/218 [==============================] - 1s 4ms/step - loss: 4.7274 - val_loss: 4.3290\n",
            "Epoch 5/30\n",
            "218/218 [==============================] - 1s 4ms/step - loss: 3.5699 - val_loss: 3.1651\n",
            "Epoch 6/30\n",
            "218/218 [==============================] - 1s 4ms/step - loss: 2.6341 - val_loss: 2.4257\n",
            "Epoch 7/30\n",
            "218/218 [==============================] - 1s 4ms/step - loss: 1.9966 - val_loss: 1.9434\n",
            "Epoch 8/30\n",
            "218/218 [==============================] - 1s 4ms/step - loss: 1.6161 - val_loss: 1.6628\n",
            "Epoch 9/30\n",
            "218/218 [==============================] - 1s 4ms/step - loss: 1.3709 - val_loss: 1.4734\n",
            "Epoch 10/30\n",
            "218/218 [==============================] - 1s 5ms/step - loss: 1.1991 - val_loss: 1.3531\n",
            "Epoch 11/30\n",
            "218/218 [==============================] - 1s 6ms/step - loss: 1.0719 - val_loss: 1.2175\n",
            "Epoch 12/30\n",
            "218/218 [==============================] - 1s 7ms/step - loss: 0.9824 - val_loss: 1.1606\n",
            "Epoch 13/30\n",
            "218/218 [==============================] - 1s 7ms/step - loss: 0.9144 - val_loss: 1.1177\n",
            "Epoch 14/30\n",
            "218/218 [==============================] - 1s 6ms/step - loss: 0.8625 - val_loss: 1.0597\n",
            "Epoch 15/30\n",
            "218/218 [==============================] - 1s 4ms/step - loss: 0.8264 - val_loss: 1.0237\n",
            "Epoch 16/30\n",
            "218/218 [==============================] - 1s 4ms/step - loss: 0.8004 - val_loss: 1.0131\n",
            "Epoch 17/30\n",
            "218/218 [==============================] - 1s 4ms/step - loss: 0.7760 - val_loss: 0.9812\n",
            "Epoch 18/30\n",
            "218/218 [==============================] - 1s 4ms/step - loss: 0.7619 - val_loss: 0.9719\n",
            "Epoch 19/30\n",
            "218/218 [==============================] - 1s 4ms/step - loss: 0.7489 - val_loss: 0.9580\n",
            "Epoch 20/30\n",
            "218/218 [==============================] - 1s 4ms/step - loss: 0.7336 - val_loss: 0.9647\n",
            "Epoch 21/30\n",
            "218/218 [==============================] - 1s 4ms/step - loss: 0.7277 - val_loss: 0.9363\n",
            "Epoch 22/30\n",
            "218/218 [==============================] - 1s 4ms/step - loss: 0.7185 - val_loss: 0.9339\n",
            "Epoch 23/30\n",
            "218/218 [==============================] - 1s 4ms/step - loss: 0.7091 - val_loss: 0.9319\n",
            "Epoch 24/30\n",
            "218/218 [==============================] - 1s 4ms/step - loss: 0.7101 - val_loss: 0.9226\n",
            "Epoch 25/30\n",
            "218/218 [==============================] - 1s 5ms/step - loss: 0.7009 - val_loss: 0.9170\n",
            "Epoch 26/30\n",
            "218/218 [==============================] - 1s 6ms/step - loss: 0.7003 - val_loss: 0.9631\n",
            "Epoch 27/30\n",
            "214/218 [============================>.] - ETA: 0s - loss: 0.7048Restoring model weights from the end of the best epoch: 25.\n",
            "218/218 [==============================] - 1s 7ms/step - loss: 0.7004 - val_loss: 0.9249\n",
            "Epoch 27: early stopping\n",
            "28/28 [==============================] - 0s 3ms/step - loss: 0.9170\n",
            "Test Loss: 0.9170170426368713\n",
            "28/28 [==============================] - 1s 2ms/step\n"
          ]
        },
        {
          "output_type": "execute_result",
          "data": {
            "text/plain": [
              "<matplotlib.legend.Legend at 0x79a96cee2230>"
            ]
          },
          "metadata": {},
          "execution_count": 139
        },
        {
          "output_type": "display_data",
          "data": {
            "text/plain": [
              "<Figure size 640x480 with 1 Axes>"
            ],
            "image/png": "[encoded data removed]"
          },
          "metadata": {}
        }
      ],
      "source": [
        "\n",
        "X_train = np.array(X_train)\n",
        "y_train = np.array(y_train)\n",
        "X_test = np.array(X_test)\n",
        "y_test = np.array(y_test)\n",
        "\n",
        "X_train = X_train.astype(np.float32)\n",
        "y_train = y_train.astype(np.float32)\n",
        "X_test = X_test.astype(np.float32)\n",
        "y_test = y_test.astype(np.float32)\n",
        "\n",
        "# LSTM modeli oluşturun\n",
        "model = keras.Sequential()\n",
        "model.add(layers.LSTM(4, input_shape=(X_train.shape[1], X_train.shape[2]), return_sequences=True))\n",
        "model.add(layers.LSTM(4, return_sequences=True, name='lstm_output'))\n",
        "model.add(layers.Dense(1, name='dense_output'))  # Çıkış katmanı\n",
        "\n",
        "# Modeli derleyin\n",
        "model.compile(optimizer='adam', loss='mean_squared_error')  # İstediğiniz bir optimizasyon ve loss fonksiyonu kullanabilirsiniz\n",
        "\n",
        "# Early Stopping callback'i oluşturun\n",
        "early_stopping = EarlyStopping(monitor='val_loss', patience=2, verbose=1, restore_best_weights=True)\n",
        "\n",
        "# Modeli eğitin ve Early Stopping callback'ini kullanın\n",
        "history = model.fit(X_train, y_train, epochs=30, batch_size=16, validation_data=(X_test, y_test), callbacks=[early_stopping])\n",
        "\n",
        "# Modelin performansını değerlendirin\n",
        "loss = model.evaluate(X_test, y_test)\n",
        "print(f\"Test Loss: {loss}\")\n",
        "\n",
        "# Tahminler yapın\n",
        "predictions = model.predict(X_test)\n",
        "\n",
        "# Eğitim ve doğrulama kayıplarını görselleştirin\n",
        "plt.plot(history.history['val_loss'], label='Train Loss')\n",
        "plt.plot(history.history['loss'], label='Validation Loss')\n",
        "plt.xlabel('Epoch')\n",
        "plt.ylabel('Loss')\n",
        "plt.legend()\n"
      ]
    },
    {
      "cell_type": "code",
      "execution_count": 140,
      "metadata": {
        "id": "CaqKsQOMwCAq",
        "colab": {
          "base_uri": "https://localhost:8080/"
        },
        "outputId": "9d495fe4-177c-4c84-d75c-84a2d324225c"
      },
      "outputs": [
        {
          "output_type": "stream",
          "name": "stderr",
          "text": [
            "/usr/local/lib/python3.10/dist-packages/keras/src/engine/training.py:3103: UserWarning: You are saving your model as an HDF5 file via `model.save()`. This file format is considered legacy. We recommend using instead the native Keras format, e.g. `model.save('my_model.keras')`.\n",
            "  saving_api.save_model(\n"
          ]
        }
      ],
      "source": [
        "model.save(\"one_step_ahead.h5\")"
      ]
    },
    {
      "cell_type": "code",
      "execution_count": 141,
      "metadata": {
        "id": "m1NqMJii21pA",
        "colab": {
          "base_uri": "https://localhost:8080/",
          "height": 557
        },
        "outputId": "1a49fa20-1b75-4d1c-9e93-46ba1dc1dcb4"
      },
      "outputs": [
        {
          "output_type": "stream",
          "name": "stdout",
          "text": [
            "28/28 [==============================] - 0s 2ms/step\n"
          ]
        },
        {
          "output_type": "display_data",
          "data": {
            "text/plain": [
              "<Figure size 1000x600 with 1 Axes>"
            ],
            "image/png": "[encoded data removed]"
          },
          "metadata": {}
        }
      ],
      "source": [
        "import matplotlib.pyplot as plt\n",
        "import numpy as np\n",
        "from sklearn.linear_model import LinearRegression\n",
        "\n",
        "# Tahminleri ve gerçek değerleri alın\n",
        "predictions = model.predict(X_test)\n",
        "\n",
        "# Linear Regression modelini oluşturun ve eğitin\n",
        "regression_model = LinearRegression()\n",
        "y_test = y_test.reshape(-1, 1)  # Yeniden şekillendirme\n",
        "predictions = predictions.reshape(-1, 1)  # Yeniden şekillendirme\n",
        "regression_model.fit(y_test, predictions)\n",
        "\n",
        "# Gerçek değerlerin minimum ve maksimum değerlerini alın\n",
        "min_val = min(np.min(y_test), np.min(predictions))\n",
        "max_val = max(np.max(y_test), np.max(predictions))\n",
        "\n",
        "# Doğruyu çizmek için tahminler oluşturun\n",
        "x_values = np.linspace(min_val, max_val, 100)\n",
        "y_values = regression_model.predict(x_values.reshape(-1, 1))\n",
        "\n",
        "# Scatter plot oluşturun\n",
        "plt.figure(figsize=(10, 6))\n",
        "plt.scatter(y_test, predictions, alpha=0.5)\n",
        "plt.plot(x_values, y_values, color='red', linewidth=2, label='Regression Line')\n",
        "\n",
        "# X=Y doğrusunu çizmek için\n",
        "plt.plot([min_val, max_val], [min_val, max_val], color='blue', linewidth=2, label='X=Y Line')\n",
        "\n",
        "plt.xlabel('Values')\n",
        "plt.ylabel('Predictions')\n",
        "plt.title('Values vs. Predictions')\n",
        "plt.legend()\n",
        "plt.show()\n"
      ]
    },
    {
      "cell_type": "code",
      "execution_count": 103,
      "metadata": {
        "id": "BxBvmQSw00SF"
      },
      "outputs": [],
      "source": [
        "\n",
        "\n",
        "# # Anomali tespiti için hata eşiği belirleme\n",
        "# hata_esigi = 2.3    # Bu değeri ihtiyaçlarınıza göre ayarlayın\n",
        "\n",
        "# predictions = model.predict(X_train)\n",
        "\n",
        "\n",
        "# # Anomali tespiti\n",
        "# anomali_maskesi = np.abs(y_train.reshape(-1) - predictions.reshape(-1)) > hata_esigi\n",
        "\n",
        "# # Anomali olarak tespit edilen örneklerin RecordID'lerini alın\n",
        "# anomali_record_ids = X_train_ids[anomali_maskesi]\n",
        "\n",
        "# # Bu RecordID'leri saklayın\n",
        "\n",
        "\n",
        "# # Bu RecordID'leri saklayın\n",
        "# # Bu noktada anomali_record_ids, anomalilerin RecordID'lerini içeren bir dizi\n",
        "# anomali_record_ids\n",
        "# anomali_record_ids_unique_train = np.unique(anomali_record_ids)\n",
        "\n",
        "# # Model ile test seti üzerinde tahmin yapma\n",
        "# predictions_test = model.predict(X_test)\n",
        "\n",
        "# # Test seti üzerinde anomali tespiti\n",
        "# anomali_maskesi_test = np.abs(y_test.reshape(-1) - predictions_test.reshape(-1)) > hata_esigi\n",
        "\n",
        "# # Anomali olarak tespit edilen örneklerin RecordID'lerini alın\n",
        "# anomali_record_ids_test = X_test_ids[anomali_maskesi_test]\n",
        "\n",
        "# # Benzersiz (unique) RecordID'leri alın\n",
        "# anomali_record_ids_unique_test = np.unique(anomali_record_ids_test)\n",
        "\n",
        "\n",
        "# anomalies = np.concatenate([anomali_record_ids_unique_test, anomali_record_ids_unique_train])\n",
        "# anomalies = np.unique(anomalies)\n",
        "# len(anomalies)\n",
        "\n",
        "\n",
        "# import numpy as np\n",
        "\n",
        "# # Anomalileri bir dosyaya kaydetme\n",
        "# np.save('anomalies.npy', anomalies)\n",
        "\n"
      ]
    },
    {
      "cell_type": "code",
      "execution_count": 103,
      "metadata": {
        "id": "XyroIfAd106b"
      },
      "outputs": [],
      "source": []
    },
    {
      "cell_type": "code",
      "execution_count": 142,
      "metadata": {
        "id": "9t5_Sd5E7LY9",
        "colab": {
          "base_uri": "https://localhost:8080/"
        },
        "outputId": "959b3ebe-1233-473a-82ff-9dd3ef4f0cb9"
      },
      "outputs": [
        {
          "output_type": "stream",
          "name": "stderr",
          "text": [
            "/usr/local/lib/python3.10/dist-packages/keras/src/engine/training.py:3103: UserWarning: You are saving your model as an HDF5 file via `model.save()`. This file format is considered legacy. We recommend using instead the native Keras format, e.g. `model.save('my_model.keras')`.\n",
            "  saving_api.save_model(\n"
          ]
        }
      ],
      "source": [
        "plt.show()\n",
        "model.save('/content/drive/MyDrive/Bitirme/models/one_step_ahead.h5')"
      ]
    },
    {
      "cell_type": "code",
      "execution_count": 143,
      "metadata": {
        "id": "52zN3UiUpv5U",
        "colab": {
          "base_uri": "https://localhost:8080/"
        },
        "outputId": "cad8385f-0237-454b-ab18-f4f14a580cfb"
      },
      "outputs": [
        {
          "output_type": "stream",
          "name": "stdout",
          "text": [
            "1.2.2\n"
          ]
        }
      ],
      "source": [
        "import sklearn\n",
        "print(sklearn.__version__)\n"
      ]
    },
    {
      "cell_type": "code",
      "execution_count": 144,
      "metadata": {
        "id": "RMcYJ-D03Dll",
        "colab": {
          "base_uri": "https://localhost:8080/"
        },
        "outputId": "9d3b189d-e188-4183-854b-4ee9dd273db5"
      },
      "outputs": [
        {
          "output_type": "stream",
          "name": "stdout",
          "text": [
            "109/109 [==============================] - 0s 2ms/step\n",
            "Mean Absolute Error (MAE): 0.582\n",
            "Root Mean Squared Error (RMSE): 0.834\n",
            "R² Score: 0.878\n"
          ]
        }
      ],
      "source": [
        "from sklearn.metrics import mean_squared_error, r2_score, mean_absolute_error\n",
        "import numpy as np\n",
        "predictions = model.predict(X_train)\n",
        "\n",
        "# Tahminlerin boyutunu kontrol edin ve düzeltin\n",
        "predictions = np.squeeze(predictions)\n",
        "\n",
        "# Ortalama Mutlak Hata (MAE)\n",
        "mae = mean_absolute_error(y_train, predictions)\n",
        "print(f\"Mean Absolute Error (MAE): {mae:.3f}\")\n",
        "\n",
        "# Kök Ortalama Karesel Hata (RMSE)\n",
        "rmse = np.sqrt(mean_squared_error(y_train, predictions))\n",
        "print(f\"Root Mean Squared Error (RMSE): {rmse:.3f}\")\n",
        "\n",
        "# R² Skoru\n",
        "r2 = r2_score(y_train, predictions)\n",
        "print(f\"R² Score: {r2:.3f}\")\n"
      ]
    },
    {
      "cell_type": "code",
      "execution_count": 145,
      "metadata": {
        "id": "vTffXqK1p9uL",
        "colab": {
          "base_uri": "https://localhost:8080/"
        },
        "outputId": "1ffb6e64-20de-443e-a7ff-dbac70dae4cb"
      },
      "outputs": [
        {
          "output_type": "stream",
          "name": "stdout",
          "text": [
            "28/28 [==============================] - 0s 2ms/step\n",
            "Mean Absolute Error (MAE): 0.659\n",
            "Root Mean Squared Error (RMSE): 0.958\n",
            "R² Score: 0.840\n"
          ]
        }
      ],
      "source": [
        "from sklearn.metrics import mean_squared_error, r2_score, mean_absolute_error\n",
        "import numpy as np\n",
        "# Tahminlerin boyutunu kontrol edin ve düzeltin\n",
        "predictions = model.predict(X_test)\n",
        "\n",
        "predictions = np.squeeze(predictions)\n",
        "\n",
        "# Ortalama Mutlak Hata (MAE)\n",
        "mae = mean_absolute_error(y_test, predictions)\n",
        "print(f\"Mean Absolute Error (MAE): {mae:.3f}\")\n",
        "\n",
        "# Kök Ortalama Karesel Hata (RMSE)\n",
        "rmse = np.sqrt(mean_squared_error(y_test, predictions))\n",
        "print(f\"Root Mean Squared Error (RMSE): {rmse:.3f}\")\n",
        "\n",
        "# R² Skoru\n",
        "r2 = r2_score(y_test, predictions)\n",
        "print(f\"R² Score: {r2:.3f}\")\n"
      ]
    },
    {
      "cell_type": "markdown",
      "metadata": {
        "id": "ygdNk-sRHgJV"
      },
      "source": [
        "## Forecasting One Step Ahead Model"
      ]
    },
    {
      "cell_type": "code",
      "execution_count": 146,
      "metadata": {
        "id": "BgED_noiJMGm"
      },
      "outputs": [],
      "source": [
        "# import numpy as np\n",
        "# from sklearn.metrics import r2_score, mean_absolute_error, mean_squared_error\n",
        "# # Önce, verilerinizin olduğu DataFrame'den gerekli sütunları çıkarmak için:\n",
        "# # df = pd.DataFrame(df)  # 'your_data' veri setinizi temsil etmelidir.\n",
        "\n",
        "# # exclude_columns dışındaki sütunları seçin\n",
        "# feature_columns = [col for col in df.columns if col not in exclude_columns]\n",
        "\n",
        "# # Hedef ve özellikleri hazırlayın\n",
        "\n",
        "# X = []\n",
        "# y_true = []\n",
        "\n",
        "# for index, row in df.iterrows():\n",
        "#     # 'Logcs' sütunundaki zaman ve değer çiftlerini çıkar\n",
        "#     logcs_values = [val for (time, val) in row['Logcs']]\n",
        "#     y_true.extend(logcs_values[1:])  # İlk değeri hariç tutuyoruz çünkü onu öğrenmek için kullanacağız\n",
        "\n",
        "#     for i in range(len(logcs_values) - 1):\n",
        "#         # Özellik vektörünü oluşturun\n",
        "#         features = row[feature_columns].values\n",
        "#         # Bir önceki Logcs değerini özelliklerle birleştirin\n",
        "#         X.append(np.concatenate(([logcs_values[i]], features)))\n",
        "\n",
        "# # Modelinizle tahminler yapın\n",
        "# y_pred = []\n",
        "\n",
        "# for x in X:\n",
        "#     # Veri türünü np.float32 olarak ayarlayın\n",
        "#     x_float32 = np.array(x, dtype=np.float32)\n",
        "\n",
        "#     # Girdiyi modelin beklediği forma dönüştürün\n",
        "#     x_reshaped = x_float32.reshape(1, 1, 20)  # Reshape to (1, 1, 20)\n",
        "#     # Modelden tahmin al\n",
        "#     predicted_logcs = model.predict(x_reshaped)\n",
        "#     y_pred.append(predicted_logcs.flatten()[0])\n",
        "\n",
        "\n"
      ]
    },
    {
      "cell_type": "code",
      "execution_count": 147,
      "metadata": {
        "id": "kkRcbYNkOHNf"
      },
      "outputs": [],
      "source": [
        "# # R^2 skorunu hesaplayın\n",
        "# r2 = r2_score(y_true, y_pred)\n",
        "# print(f'R^2 Score: {r2}')\n",
        "\n",
        "\n",
        "# # MAE hesapla\n",
        "# mae = mean_absolute_error(y_true, y_pred)\n",
        "# print(f'Mean Absolute Error (MAE): {mae}')\n",
        "\n",
        "# # RMSE hesapla\n",
        "# rmse = np.sqrt(mean_squared_error(y_true, y_pred))\n",
        "# print(f'Root Mean Squared Error (RMSE): {rmse}')"
      ]
    },
    {
      "cell_type": "markdown",
      "metadata": {
        "id": "Un5NlE2nPyLt"
      },
      "source": [
        "## Encoder Decoder Part"
      ]
    },
    {
      "cell_type": "code",
      "execution_count": 148,
      "metadata": {
        "id": "ERKhGXik8WWN"
      },
      "outputs": [],
      "source": [
        "from sklearn.model_selection import train_test_split\n",
        "\n",
        "# df DataFrame'ini ilk olarak eğitim ve test setlerine ayır\n",
        "df_train, df_test = train_test_split(df, test_size=0.2, random_state=42)\n",
        "\n",
        "# df_train DataFrame'ini daha sonra eğitim ve doğrulama setlerine ayır\n",
        "df_train_partial, df_val = train_test_split(df_train, test_size=0.2, random_state=42)\n"
      ]
    },
    {
      "cell_type": "code",
      "execution_count": 149,
      "metadata": {
        "id": "q0uY5H3-88vN",
        "colab": {
          "base_uri": "https://localhost:8080/"
        },
        "outputId": "0ee5e992-de0c-4de5-e016-9b928a9e6758"
      },
      "outputs": [
        {
          "output_type": "execute_result",
          "data": {
            "text/plain": [
              "508"
            ]
          },
          "metadata": {},
          "execution_count": 149
        }
      ],
      "source": [
        "len(df)"
      ]
    },
    {
      "cell_type": "markdown",
      "metadata": {
        "id": "g9Gma1A-H0TX"
      },
      "source": [
        "### Zaman araliklari girilerek"
      ]
    },
    {
      "cell_type": "code",
      "execution_count": 150,
      "metadata": {
        "id": "Nfx_9F3l7tXp"
      },
      "outputs": [],
      "source": [
        "import numpy as np\n",
        "\n",
        "def prepare_data(df):\n",
        "    X, y, record_ids = [], [], []\n",
        "    exclude_columns = ['Record ID', 'Total Values', 'Increases', 'Decreases', 'Logcs', \"Zero_Count\"]\n",
        "\n",
        "    # all_features listesini oluşturma\n",
        "    all_features = [col for col in df.columns if col not in exclude_columns]\n",
        "\n",
        "    for index, row in df.iterrows():\n",
        "        logcs_data = row['Logcs']\n",
        "        features = row[all_features].values\n",
        "\n",
        "        if len(logcs_data) > 5:\n",
        "            X_input = []\n",
        "            first_time_value = logcs_data[0][0]  # İlk zaman değerini referans al\n",
        "            for i in range(5):\n",
        "                time_diff = logcs_data[i][0] - first_time_value\n",
        "                X_input.extend([time_diff, logcs_data[i][1]])\n",
        "                X_input.extend(features)\n",
        "\n",
        "            y_output = [logcs_data[i][1] for i in range(5, len(logcs_data))]\n",
        "\n",
        "            X.append(X_input)\n",
        "            y.append(y_output)\n",
        "            record_ids.append(row['Record ID'])  # Her veri noktası için Record ID'yi sakla\n",
        "\n",
        "    # Girdi boyutunu düzeltme\n",
        "    feature_len = 2 + len(all_features)  # Her zaman adımı için zaman farkı ve değer\n",
        "    time_steps = 5\n",
        "    return np.array(X).reshape(-1, time_steps, feature_len), np.array(y, dtype=object), record_ids\n",
        "\n",
        "# Veri hazırlama\n",
        "X_train, y_train, record_ids_train = prepare_data(df_train_partial)\n",
        "X_val, y_val, record_ids_val = prepare_data(df_val)\n",
        "X_test, y_test, record_ids_test = prepare_data(df_test)\n"
      ]
    },
    {
      "cell_type": "code",
      "execution_count": 151,
      "metadata": {
        "id": "U0vN3lHQ9NGC",
        "colab": {
          "base_uri": "https://localhost:8080/"
        },
        "outputId": "c4c9043b-0aad-454f-eccd-084c18bc3b67"
      },
      "outputs": [
        {
          "output_type": "stream",
          "name": "stdout",
          "text": [
            "Model: \"model_3\"\n",
            "__________________________________________________________________________________________________\n",
            " Layer (type)                Output Shape                 Param #   Connected to                  \n",
            "==================================================================================================\n",
            " input_4 (InputLayer)        [(None, 5, 24)]              0         []                            \n",
            "                                                                                                  \n",
            " lstm_11 (LSTM)              [(None, 50),                 15000     ['input_4[0][0]']             \n",
            "                              (None, 50),                                                         \n",
            "                              (None, 50)]                                                         \n",
            "                                                                                                  \n",
            " repeat_vector_3 (RepeatVec  (None, 30, 50)               0         ['lstm_11[0][0]']             \n",
            " tor)                                                                                             \n",
            "                                                                                                  \n",
            " lstm_12 (LSTM)              (None, 30, 50)               20200     ['repeat_vector_3[0][0]',     \n",
            "                                                                     'lstm_11[0][1]',             \n",
            "                                                                     'lstm_11[0][2]']             \n",
            "                                                                                                  \n",
            " time_distributed_3 (TimeDi  (None, 30, 1)                51        ['lstm_12[0][0]']             \n",
            " stributed)                                                                                       \n",
            "                                                                                                  \n",
            "==================================================================================================\n",
            "Total params: 35251 (137.70 KB)\n",
            "Trainable params: 35251 (137.70 KB)\n",
            "Non-trainable params: 0 (0.00 Byte)\n",
            "__________________________________________________________________________________________________\n"
          ]
        }
      ],
      "source": [
        "from tensorflow.keras.models import Model\n",
        "from tensorflow.keras.layers import Input, LSTM, Dense, RepeatVector, TimeDistributed\n",
        "import numpy as np\n",
        "\n",
        "# Maksimum çıktı uzunluğunu hesapla\n",
        "max_output_length = max([len(yi) for yi in y_train])\n",
        "\n",
        "# Encoder\n",
        "encoder_inputs = Input(shape=(5, len(X_train[0][0])))  # 5 zaman adımı, özellik sayısı\n",
        "encoder_lstm = LSTM(50, return_state=True)\n",
        "encoder_outputs, state_h, state_c = encoder_lstm(encoder_inputs)\n",
        "encoder_states = [state_h, state_c]\n",
        "\n",
        "# Decoder\n",
        "decoder_inputs = RepeatVector(max_output_length)(encoder_outputs)  # Burada encoder çıktısını tekrarla\n",
        "decoder_lstm = LSTM(50, return_sequences=True, return_state=False)\n",
        "decoder_outputs = decoder_lstm(decoder_inputs, initial_state=encoder_states)\n",
        "decoder_dense = TimeDistributed(Dense(1))  # Her zaman adımı için bir tahmin\n",
        "decoder_outputs = decoder_dense(decoder_outputs)\n",
        "\n",
        "# Model\n",
        "model = Model(inputs=encoder_inputs, outputs=decoder_outputs)\n",
        "\n",
        "# Model Derleme\n",
        "model.compile(optimizer='adam', loss='mean_squared_error')\n",
        "\n",
        "# Model Özeti\n",
        "model.summary()\n"
      ]
    },
    {
      "cell_type": "code",
      "execution_count": 152,
      "metadata": {
        "id": "JikJ_vrv01u2"
      },
      "outputs": [],
      "source": [
        "optimizer = tf.keras.optimizers.Adam()\n",
        "loss_fn = tf.keras.losses.MeanSquaredError()\n",
        "\n",
        "best_val_loss = np.inf\n",
        "best_weights = None\n",
        "\n",
        "epochs = 12  # Toplam epoch sayısı\n",
        "train_losses = []\n",
        "val_losses = []\n"
      ]
    },
    {
      "cell_type": "code",
      "execution_count": 153,
      "metadata": {
        "id": "gjnPRey39TaU",
        "colab": {
          "base_uri": "https://localhost:8080/",
          "height": 1000
        },
        "outputId": "e89a521a-6355-440d-fd12-ba93f85917f6"
      },
      "outputs": [
        {
          "output_type": "stream",
          "name": "stdout",
          "text": [
            "Epoch 1/12\n",
            "1/1 [==============================] - 1s 796ms/step\n",
            "1/1 [==============================] - 0s 23ms/step\n",
            "1/1 [==============================] - 0s 24ms/step\n",
            "1/1 [==============================] - 0s 26ms/step\n",
            "1/1 [==============================] - 0s 23ms/step\n",
            "1/1 [==============================] - 0s 27ms/step\n",
            "1/1 [==============================] - 0s 23ms/step\n",
            "1/1 [==============================] - 0s 22ms/step\n",
            "1/1 [==============================] - 0s 25ms/step\n",
            "1/1 [==============================] - 0s 23ms/step\n",
            "1/1 [==============================] - 0s 25ms/step\n",
            "1/1 [==============================] - 0s 24ms/step\n",
            "1/1 [==============================] - 0s 25ms/step\n",
            "1/1 [==============================] - 0s 26ms/step\n",
            "1/1 [==============================] - 0s 28ms/step\n",
            "1/1 [==============================] - 0s 24ms/step\n",
            "1/1 [==============================] - 0s 24ms/step\n",
            "1/1 [==============================] - 0s 23ms/step\n",
            "1/1 [==============================] - 0s 22ms/step\n",
            "1/1 [==============================] - 0s 23ms/step\n",
            "1/1 [==============================] - 0s 25ms/step\n",
            "1/1 [==============================] - 0s 23ms/step\n",
            "1/1 [==============================] - 0s 24ms/step\n",
            "1/1 [==============================] - 0s 24ms/step\n",
            "1/1 [==============================] - 0s 24ms/step\n",
            "1/1 [==============================] - 0s 23ms/step\n",
            "1/1 [==============================] - 0s 23ms/step\n",
            "1/1 [==============================] - 0s 22ms/step\n",
            "1/1 [==============================] - 0s 26ms/step\n",
            "1/1 [==============================] - 0s 26ms/step\n",
            "1/1 [==============================] - 0s 22ms/step\n",
            "1/1 [==============================] - 0s 24ms/step\n",
            "1/1 [==============================] - 0s 25ms/step\n",
            "1/1 [==============================] - 0s 24ms/step\n",
            "1/1 [==============================] - 0s 26ms/step\n",
            "1/1 [==============================] - 0s 24ms/step\n",
            "1/1 [==============================] - 0s 22ms/step\n",
            "1/1 [==============================] - 0s 22ms/step\n",
            "1/1 [==============================] - 0s 25ms/step\n",
            "1/1 [==============================] - 0s 24ms/step\n",
            "1/1 [==============================] - 0s 23ms/step\n",
            "1/1 [==============================] - 0s 24ms/step\n",
            "1/1 [==============================] - 0s 23ms/step\n",
            "1/1 [==============================] - 0s 23ms/step\n",
            "1/1 [==============================] - 0s 25ms/step\n",
            "1/1 [==============================] - 0s 23ms/step\n",
            "1/1 [==============================] - 0s 23ms/step\n",
            "1/1 [==============================] - 0s 24ms/step\n",
            "1/1 [==============================] - 0s 23ms/step\n",
            "1/1 [==============================] - 0s 22ms/step\n",
            "1/1 [==============================] - 0s 23ms/step\n",
            "1/1 [==============================] - 0s 23ms/step\n",
            "1/1 [==============================] - 0s 26ms/step\n",
            "1/1 [==============================] - 0s 25ms/step\n",
            "1/1 [==============================] - 0s 24ms/step\n",
            "1/1 [==============================] - 0s 23ms/step\n",
            "1/1 [==============================] - 0s 24ms/step\n",
            "1/1 [==============================] - 0s 24ms/step\n",
            "1/1 [==============================] - 0s 24ms/step\n",
            "1/1 [==============================] - 0s 28ms/step\n",
            "1/1 [==============================] - 0s 25ms/step\n",
            "1/1 [==============================] - 0s 26ms/step\n",
            "1/1 [==============================] - 0s 24ms/step\n",
            "1/1 [==============================] - 0s 28ms/step\n",
            "1/1 [==============================] - 0s 25ms/step\n",
            "1/1 [==============================] - 0s 30ms/step\n",
            "1/1 [==============================] - 0s 24ms/step\n",
            "1/1 [==============================] - 0s 28ms/step\n",
            "1/1 [==============================] - 0s 27ms/step\n",
            "1/1 [==============================] - 0s 37ms/step\n",
            "1/1 [==============================] - 0s 34ms/step\n",
            "1/1 [==============================] - 0s 34ms/step\n",
            "1/1 [==============================] - 0s 35ms/step\n",
            "1/1 [==============================] - 0s 37ms/step\n",
            "1/1 [==============================] - 0s 35ms/step\n",
            "1/1 [==============================] - 0s 35ms/step\n",
            "1/1 [==============================] - 0s 36ms/step\n",
            "1/1 [==============================] - 0s 39ms/step\n",
            "1/1 [==============================] - 0s 34ms/step\n",
            "1/1 [==============================] - 0s 36ms/step\n",
            "1/1 [==============================] - 0s 38ms/step\n",
            "1/1 [==============================] - 0s 48ms/step\n",
            "Training Loss: 8.509294347241118, Validation Loss: 4.037293618346179\n",
            "Epoch 2/12\n",
            "1/1 [==============================] - 0s 35ms/step\n",
            "1/1 [==============================] - 0s 31ms/step\n",
            "1/1 [==============================] - 0s 34ms/step\n",
            "1/1 [==============================] - 0s 30ms/step\n",
            "1/1 [==============================] - 0s 34ms/step\n",
            "1/1 [==============================] - 0s 28ms/step\n",
            "1/1 [==============================] - 0s 36ms/step\n",
            "1/1 [==============================] - 0s 29ms/step\n",
            "1/1 [==============================] - 0s 27ms/step\n",
            "1/1 [==============================] - 0s 28ms/step\n",
            "1/1 [==============================] - 0s 26ms/step\n",
            "1/1 [==============================] - 0s 28ms/step\n",
            "1/1 [==============================] - 0s 30ms/step\n",
            "1/1 [==============================] - 0s 33ms/step\n",
            "1/1 [==============================] - 0s 28ms/step\n",
            "1/1 [==============================] - 0s 29ms/step\n",
            "1/1 [==============================] - 0s 41ms/step\n",
            "1/1 [==============================] - 0s 31ms/step\n",
            "1/1 [==============================] - 0s 28ms/step\n",
            "1/1 [==============================] - 0s 32ms/step\n",
            "1/1 [==============================] - 0s 29ms/step\n",
            "1/1 [==============================] - 0s 28ms/step\n",
            "1/1 [==============================] - 0s 31ms/step\n",
            "1/1 [==============================] - 0s 31ms/step\n",
            "1/1 [==============================] - 0s 27ms/step\n",
            "1/1 [==============================] - 0s 29ms/step\n",
            "1/1 [==============================] - 0s 39ms/step\n",
            "1/1 [==============================] - 0s 26ms/step\n",
            "1/1 [==============================] - 0s 26ms/step\n",
            "1/1 [==============================] - 0s 25ms/step\n",
            "1/1 [==============================] - 0s 44ms/step\n",
            "1/1 [==============================] - 0s 43ms/step\n",
            "1/1 [==============================] - 0s 43ms/step\n",
            "1/1 [==============================] - 0s 40ms/step\n",
            "1/1 [==============================] - 0s 40ms/step\n",
            "1/1 [==============================] - 0s 45ms/step\n",
            "1/1 [==============================] - 0s 38ms/step\n",
            "1/1 [==============================] - 0s 40ms/step\n",
            "1/1 [==============================] - 0s 45ms/step\n",
            "1/1 [==============================] - 0s 40ms/step\n",
            "1/1 [==============================] - 0s 42ms/step\n",
            "1/1 [==============================] - 0s 43ms/step\n",
            "1/1 [==============================] - 0s 40ms/step\n",
            "1/1 [==============================] - 0s 41ms/step\n",
            "1/1 [==============================] - 0s 47ms/step\n",
            "1/1 [==============================] - 0s 47ms/step\n",
            "1/1 [==============================] - 0s 42ms/step\n",
            "1/1 [==============================] - 0s 38ms/step\n",
            "1/1 [==============================] - 0s 49ms/step\n",
            "1/1 [==============================] - 0s 44ms/step\n",
            "1/1 [==============================] - 0s 41ms/step\n",
            "1/1 [==============================] - 0s 44ms/step\n",
            "1/1 [==============================] - 0s 44ms/step\n",
            "1/1 [==============================] - 0s 39ms/step\n",
            "1/1 [==============================] - 0s 37ms/step\n",
            "1/1 [==============================] - 0s 40ms/step\n",
            "1/1 [==============================] - 0s 38ms/step\n",
            "1/1 [==============================] - 0s 37ms/step\n",
            "1/1 [==============================] - 0s 41ms/step\n",
            "1/1 [==============================] - 0s 45ms/step\n",
            "1/1 [==============================] - 0s 46ms/step\n",
            "1/1 [==============================] - 0s 39ms/step\n",
            "1/1 [==============================] - 0s 62ms/step\n",
            "1/1 [==============================] - 0s 43ms/step\n",
            "1/1 [==============================] - 0s 36ms/step\n",
            "1/1 [==============================] - 0s 28ms/step\n",
            "1/1 [==============================] - 0s 27ms/step\n",
            "1/1 [==============================] - 0s 32ms/step\n",
            "1/1 [==============================] - 0s 27ms/step\n",
            "1/1 [==============================] - 0s 31ms/step\n",
            "1/1 [==============================] - 0s 26ms/step\n",
            "1/1 [==============================] - 0s 28ms/step\n",
            "1/1 [==============================] - 0s 24ms/step\n",
            "1/1 [==============================] - 0s 25ms/step\n",
            "1/1 [==============================] - 0s 34ms/step\n",
            "1/1 [==============================] - 0s 26ms/step\n",
            "1/1 [==============================] - 0s 31ms/step\n",
            "1/1 [==============================] - 0s 30ms/step\n",
            "1/1 [==============================] - 0s 27ms/step\n",
            "1/1 [==============================] - 0s 26ms/step\n",
            "1/1 [==============================] - 0s 27ms/step\n",
            "1/1 [==============================] - 0s 30ms/step\n",
            "Training Loss: 2.1552340587558527, Validation Loss: 2.2073256240322867\n",
            "Epoch 3/12\n",
            "1/1 [==============================] - 0s 31ms/step\n",
            "1/1 [==============================] - 0s 29ms/step\n",
            "1/1 [==============================] - 0s 31ms/step\n",
            "1/1 [==============================] - 0s 33ms/step\n",
            "1/1 [==============================] - 0s 28ms/step\n",
            "1/1 [==============================] - 0s 32ms/step\n",
            "1/1 [==============================] - 0s 27ms/step\n",
            "1/1 [==============================] - 0s 29ms/step\n",
            "1/1 [==============================] - 0s 25ms/step\n",
            "1/1 [==============================] - 0s 27ms/step\n",
            "1/1 [==============================] - 0s 30ms/step\n",
            "1/1 [==============================] - 0s 26ms/step\n",
            "1/1 [==============================] - 0s 26ms/step\n",
            "1/1 [==============================] - 0s 36ms/step\n",
            "1/1 [==============================] - 0s 27ms/step\n",
            "1/1 [==============================] - 0s 25ms/step\n",
            "1/1 [==============================] - 0s 30ms/step\n",
            "1/1 [==============================] - 0s 26ms/step\n",
            "1/1 [==============================] - 0s 24ms/step\n",
            "1/1 [==============================] - 0s 26ms/step\n",
            "1/1 [==============================] - 0s 23ms/step\n",
            "1/1 [==============================] - 0s 28ms/step\n",
            "1/1 [==============================] - 0s 29ms/step\n",
            "1/1 [==============================] - 0s 25ms/step\n",
            "1/1 [==============================] - 0s 24ms/step\n",
            "1/1 [==============================] - 0s 31ms/step\n",
            "1/1 [==============================] - 0s 25ms/step\n",
            "1/1 [==============================] - 0s 24ms/step\n",
            "1/1 [==============================] - 0s 26ms/step\n",
            "1/1 [==============================] - 0s 25ms/step\n",
            "1/1 [==============================] - 0s 25ms/step\n",
            "1/1 [==============================] - 0s 29ms/step\n",
            "1/1 [==============================] - 0s 27ms/step\n",
            "1/1 [==============================] - 0s 28ms/step\n",
            "1/1 [==============================] - 0s 28ms/step\n",
            "1/1 [==============================] - 0s 26ms/step\n",
            "1/1 [==============================] - 0s 25ms/step\n",
            "1/1 [==============================] - 0s 25ms/step\n",
            "1/1 [==============================] - 0s 25ms/step\n",
            "1/1 [==============================] - 0s 24ms/step\n",
            "1/1 [==============================] - 0s 27ms/step\n",
            "1/1 [==============================] - 0s 27ms/step\n",
            "1/1 [==============================] - 0s 25ms/step\n",
            "1/1 [==============================] - 0s 28ms/step\n",
            "1/1 [==============================] - 0s 24ms/step\n",
            "1/1 [==============================] - 0s 24ms/step\n",
            "1/1 [==============================] - 0s 29ms/step\n",
            "1/1 [==============================] - 0s 37ms/step\n",
            "1/1 [==============================] - 0s 47ms/step\n",
            "1/1 [==============================] - 0s 40ms/step\n",
            "1/1 [==============================] - 0s 39ms/step\n",
            "1/1 [==============================] - 0s 41ms/step\n",
            "1/1 [==============================] - 0s 42ms/step\n",
            "1/1 [==============================] - 0s 40ms/step\n",
            "1/1 [==============================] - 0s 43ms/step\n",
            "1/1 [==============================] - 0s 37ms/step\n",
            "1/1 [==============================] - 0s 34ms/step\n",
            "1/1 [==============================] - 0s 38ms/step\n",
            "1/1 [==============================] - 0s 41ms/step\n",
            "1/1 [==============================] - 0s 38ms/step\n",
            "1/1 [==============================] - 0s 36ms/step\n",
            "1/1 [==============================] - 0s 41ms/step\n",
            "1/1 [==============================] - 0s 37ms/step\n",
            "1/1 [==============================] - 0s 49ms/step\n",
            "1/1 [==============================] - 0s 45ms/step\n",
            "1/1 [==============================] - 0s 37ms/step\n",
            "1/1 [==============================] - 0s 36ms/step\n",
            "1/1 [==============================] - 0s 36ms/step\n",
            "1/1 [==============================] - 0s 47ms/step\n",
            "1/1 [==============================] - 0s 39ms/step\n",
            "1/1 [==============================] - 0s 35ms/step\n",
            "1/1 [==============================] - 0s 50ms/step\n",
            "1/1 [==============================] - 0s 35ms/step\n",
            "1/1 [==============================] - 0s 44ms/step\n",
            "1/1 [==============================] - 0s 35ms/step\n",
            "1/1 [==============================] - 0s 35ms/step\n",
            "1/1 [==============================] - 0s 41ms/step\n",
            "1/1 [==============================] - 0s 38ms/step\n",
            "1/1 [==============================] - 0s 41ms/step\n",
            "1/1 [==============================] - 0s 40ms/step\n",
            "1/1 [==============================] - 0s 36ms/step\n",
            "1/1 [==============================] - 0s 40ms/step\n",
            "Training Loss: 1.6196296858564847, Validation Loss: 1.5105889596082565\n",
            "Epoch 4/12\n",
            "1/1 [==============================] - 0s 30ms/step\n",
            "1/1 [==============================] - 0s 27ms/step\n",
            "1/1 [==============================] - 0s 26ms/step\n",
            "1/1 [==============================] - 0s 30ms/step\n",
            "1/1 [==============================] - 0s 26ms/step\n",
            "1/1 [==============================] - 0s 28ms/step\n",
            "1/1 [==============================] - 0s 26ms/step\n",
            "1/1 [==============================] - 0s 28ms/step\n",
            "1/1 [==============================] - 0s 27ms/step\n",
            "1/1 [==============================] - 0s 28ms/step\n",
            "1/1 [==============================] - 0s 30ms/step\n",
            "1/1 [==============================] - 0s 26ms/step\n",
            "1/1 [==============================] - 0s 28ms/step\n",
            "1/1 [==============================] - 0s 29ms/step\n",
            "1/1 [==============================] - 0s 27ms/step\n",
            "1/1 [==============================] - 0s 28ms/step\n",
            "1/1 [==============================] - 0s 40ms/step\n",
            "1/1 [==============================] - 0s 29ms/step\n",
            "1/1 [==============================] - 0s 25ms/step\n",
            "1/1 [==============================] - 0s 26ms/step\n",
            "1/1 [==============================] - 0s 29ms/step\n",
            "1/1 [==============================] - 0s 31ms/step\n",
            "1/1 [==============================] - 0s 27ms/step\n",
            "1/1 [==============================] - 0s 25ms/step\n",
            "1/1 [==============================] - 0s 25ms/step\n",
            "1/1 [==============================] - 0s 26ms/step\n",
            "1/1 [==============================] - 0s 26ms/step\n",
            "1/1 [==============================] - 0s 25ms/step\n",
            "1/1 [==============================] - 0s 26ms/step\n",
            "1/1 [==============================] - 0s 24ms/step\n",
            "1/1 [==============================] - 0s 27ms/step\n",
            "1/1 [==============================] - 0s 28ms/step\n",
            "1/1 [==============================] - 0s 25ms/step\n",
            "1/1 [==============================] - 0s 26ms/step\n",
            "1/1 [==============================] - 0s 26ms/step\n",
            "1/1 [==============================] - 0s 28ms/step\n",
            "1/1 [==============================] - 0s 24ms/step\n",
            "1/1 [==============================] - 0s 26ms/step\n",
            "1/1 [==============================] - 0s 28ms/step\n",
            "1/1 [==============================] - 0s 26ms/step\n",
            "1/1 [==============================] - 0s 29ms/step\n",
            "1/1 [==============================] - 0s 27ms/step\n",
            "1/1 [==============================] - 0s 26ms/step\n",
            "1/1 [==============================] - 0s 25ms/step\n",
            "1/1 [==============================] - 0s 30ms/step\n",
            "1/1 [==============================] - 0s 26ms/step\n",
            "1/1 [==============================] - 0s 28ms/step\n",
            "1/1 [==============================] - 0s 26ms/step\n",
            "1/1 [==============================] - 0s 30ms/step\n",
            "1/1 [==============================] - 0s 25ms/step\n",
            "1/1 [==============================] - 0s 25ms/step\n",
            "1/1 [==============================] - 0s 30ms/step\n",
            "1/1 [==============================] - 0s 26ms/step\n",
            "1/1 [==============================] - 0s 25ms/step\n",
            "1/1 [==============================] - 0s 25ms/step\n",
            "1/1 [==============================] - 0s 24ms/step\n",
            "1/1 [==============================] - 0s 24ms/step\n",
            "1/1 [==============================] - 0s 27ms/step\n",
            "1/1 [==============================] - 0s 34ms/step\n",
            "1/1 [==============================] - 0s 28ms/step\n",
            "1/1 [==============================] - 0s 27ms/step\n",
            "1/1 [==============================] - 0s 31ms/step\n",
            "1/1 [==============================] - 0s 26ms/step\n",
            "1/1 [==============================] - 0s 39ms/step\n",
            "1/1 [==============================] - 0s 42ms/step\n",
            "1/1 [==============================] - 0s 41ms/step\n",
            "1/1 [==============================] - 0s 47ms/step\n",
            "1/1 [==============================] - 0s 48ms/step\n",
            "1/1 [==============================] - 0s 39ms/step\n",
            "1/1 [==============================] - 0s 40ms/step\n",
            "1/1 [==============================] - 0s 38ms/step\n",
            "1/1 [==============================] - 0s 40ms/step\n",
            "1/1 [==============================] - 0s 38ms/step\n",
            "1/1 [==============================] - 0s 36ms/step\n",
            "1/1 [==============================] - 0s 35ms/step\n",
            "1/1 [==============================] - 0s 39ms/step\n",
            "1/1 [==============================] - 0s 38ms/step\n",
            "1/1 [==============================] - 0s 37ms/step\n",
            "1/1 [==============================] - 0s 42ms/step\n",
            "1/1 [==============================] - 0s 42ms/step\n",
            "1/1 [==============================] - 0s 40ms/step\n",
            "1/1 [==============================] - 0s 37ms/step\n",
            "Training Loss: 1.5017521138093954, Validation Loss: 1.3857377215122475\n",
            "Epoch 5/12\n",
            "1/1 [==============================] - 0s 25ms/step\n",
            "1/1 [==============================] - 0s 29ms/step\n",
            "1/1 [==============================] - 0s 26ms/step\n",
            "1/1 [==============================] - 0s 26ms/step\n",
            "1/1 [==============================] - 0s 25ms/step\n",
            "1/1 [==============================] - 0s 23ms/step\n",
            "1/1 [==============================] - 0s 36ms/step\n",
            "1/1 [==============================] - 0s 26ms/step\n",
            "1/1 [==============================] - 0s 28ms/step\n",
            "1/1 [==============================] - 0s 27ms/step\n",
            "1/1 [==============================] - 0s 22ms/step\n",
            "1/1 [==============================] - 0s 24ms/step\n",
            "1/1 [==============================] - 0s 28ms/step\n",
            "1/1 [==============================] - 0s 26ms/step\n",
            "1/1 [==============================] - 0s 25ms/step\n",
            "1/1 [==============================] - 0s 25ms/step\n",
            "1/1 [==============================] - 0s 28ms/step\n",
            "1/1 [==============================] - 0s 30ms/step\n",
            "1/1 [==============================] - 0s 27ms/step\n",
            "1/1 [==============================] - 0s 26ms/step\n",
            "1/1 [==============================] - 0s 26ms/step\n",
            "1/1 [==============================] - 0s 28ms/step\n",
            "1/1 [==============================] - 0s 27ms/step\n",
            "1/1 [==============================] - 0s 29ms/step\n",
            "1/1 [==============================] - 0s 24ms/step\n",
            "1/1 [==============================] - 0s 25ms/step\n",
            "1/1 [==============================] - 0s 26ms/step\n",
            "1/1 [==============================] - 0s 33ms/step\n",
            "1/1 [==============================] - 0s 26ms/step\n",
            "1/1 [==============================] - 0s 30ms/step\n",
            "1/1 [==============================] - 0s 25ms/step\n",
            "1/1 [==============================] - 0s 26ms/step\n",
            "1/1 [==============================] - 0s 27ms/step\n",
            "1/1 [==============================] - 0s 25ms/step\n",
            "1/1 [==============================] - 0s 24ms/step\n",
            "1/1 [==============================] - 0s 27ms/step\n",
            "1/1 [==============================] - 0s 26ms/step\n",
            "1/1 [==============================] - 0s 23ms/step\n",
            "1/1 [==============================] - 0s 29ms/step\n",
            "1/1 [==============================] - 0s 25ms/step\n",
            "1/1 [==============================] - 0s 26ms/step\n",
            "1/1 [==============================] - 0s 25ms/step\n",
            "1/1 [==============================] - 0s 25ms/step\n",
            "1/1 [==============================] - 0s 23ms/step\n",
            "1/1 [==============================] - 0s 24ms/step\n",
            "1/1 [==============================] - 0s 23ms/step\n",
            "1/1 [==============================] - 0s 24ms/step\n",
            "1/1 [==============================] - 0s 24ms/step\n",
            "1/1 [==============================] - 0s 32ms/step\n",
            "1/1 [==============================] - 0s 29ms/step\n",
            "1/1 [==============================] - 0s 25ms/step\n",
            "1/1 [==============================] - 0s 31ms/step\n",
            "1/1 [==============================] - 0s 25ms/step\n",
            "1/1 [==============================] - 0s 25ms/step\n",
            "1/1 [==============================] - 0s 24ms/step\n",
            "1/1 [==============================] - 0s 25ms/step\n",
            "1/1 [==============================] - 0s 24ms/step\n",
            "1/1 [==============================] - 0s 27ms/step\n",
            "1/1 [==============================] - 0s 26ms/step\n",
            "1/1 [==============================] - 0s 23ms/step\n",
            "1/1 [==============================] - 0s 36ms/step\n",
            "1/1 [==============================] - 0s 25ms/step\n",
            "1/1 [==============================] - 0s 25ms/step\n",
            "1/1 [==============================] - 0s 24ms/step\n",
            "1/1 [==============================] - 0s 26ms/step\n",
            "1/1 [==============================] - 0s 24ms/step\n",
            "1/1 [==============================] - 0s 25ms/step\n",
            "1/1 [==============================] - 0s 25ms/step\n",
            "1/1 [==============================] - 0s 24ms/step\n",
            "1/1 [==============================] - 0s 25ms/step\n",
            "1/1 [==============================] - 0s 24ms/step\n",
            "1/1 [==============================] - 0s 34ms/step\n",
            "1/1 [==============================] - 0s 102ms/step\n",
            "1/1 [==============================] - 0s 34ms/step\n",
            "1/1 [==============================] - 0s 103ms/step\n",
            "1/1 [==============================] - 0s 24ms/step\n",
            "1/1 [==============================] - 0s 41ms/step\n",
            "1/1 [==============================] - 0s 39ms/step\n",
            "1/1 [==============================] - 0s 34ms/step\n",
            "1/1 [==============================] - 0s 34ms/step\n",
            "1/1 [==============================] - 0s 32ms/step\n",
            "1/1 [==============================] - 0s 37ms/step\n",
            "Training Loss: 1.3516464409010187, Validation Loss: 1.3551373105947961\n",
            "Epoch 6/12\n",
            "1/1 [==============================] - 0s 42ms/step\n",
            "1/1 [==============================] - 0s 39ms/step\n",
            "1/1 [==============================] - 0s 29ms/step\n",
            "1/1 [==============================] - 0s 24ms/step\n",
            "1/1 [==============================] - 0s 24ms/step\n",
            "1/1 [==============================] - 0s 29ms/step\n",
            "1/1 [==============================] - 0s 28ms/step\n",
            "1/1 [==============================] - 0s 25ms/step\n",
            "1/1 [==============================] - 0s 24ms/step\n",
            "1/1 [==============================] - 0s 30ms/step\n",
            "1/1 [==============================] - 0s 25ms/step\n",
            "1/1 [==============================] - 0s 26ms/step\n",
            "1/1 [==============================] - 0s 23ms/step\n",
            "1/1 [==============================] - 0s 23ms/step\n",
            "1/1 [==============================] - 0s 23ms/step\n",
            "1/1 [==============================] - 0s 24ms/step\n",
            "1/1 [==============================] - 0s 24ms/step\n",
            "1/1 [==============================] - 0s 23ms/step\n",
            "1/1 [==============================] - 0s 25ms/step\n",
            "1/1 [==============================] - 0s 24ms/step\n",
            "1/1 [==============================] - 0s 25ms/step\n",
            "1/1 [==============================] - 0s 27ms/step\n",
            "1/1 [==============================] - 0s 24ms/step\n",
            "1/1 [==============================] - 0s 23ms/step\n",
            "1/1 [==============================] - 0s 24ms/step\n",
            "1/1 [==============================] - 0s 26ms/step\n",
            "1/1 [==============================] - 0s 26ms/step\n",
            "1/1 [==============================] - 0s 25ms/step\n",
            "1/1 [==============================] - 0s 25ms/step\n",
            "1/1 [==============================] - 0s 30ms/step\n",
            "1/1 [==============================] - 0s 24ms/step\n",
            "1/1 [==============================] - 0s 24ms/step\n",
            "1/1 [==============================] - 0s 24ms/step\n",
            "1/1 [==============================] - 0s 26ms/step\n",
            "1/1 [==============================] - 0s 28ms/step\n",
            "1/1 [==============================] - 0s 31ms/step\n",
            "1/1 [==============================] - 0s 24ms/step\n",
            "1/1 [==============================] - 0s 25ms/step\n",
            "1/1 [==============================] - 0s 31ms/step\n",
            "1/1 [==============================] - 0s 25ms/step\n",
            "1/1 [==============================] - 0s 25ms/step\n",
            "1/1 [==============================] - 0s 26ms/step\n",
            "1/1 [==============================] - 0s 26ms/step\n",
            "1/1 [==============================] - 0s 26ms/step\n",
            "1/1 [==============================] - 0s 24ms/step\n",
            "1/1 [==============================] - 0s 26ms/step\n",
            "1/1 [==============================] - 0s 27ms/step\n",
            "1/1 [==============================] - 0s 28ms/step\n",
            "1/1 [==============================] - 0s 31ms/step\n",
            "1/1 [==============================] - 0s 23ms/step\n",
            "1/1 [==============================] - 0s 29ms/step\n",
            "1/1 [==============================] - 0s 28ms/step\n",
            "1/1 [==============================] - 0s 30ms/step\n",
            "1/1 [==============================] - 0s 26ms/step\n",
            "1/1 [==============================] - 0s 27ms/step\n",
            "1/1 [==============================] - 0s 27ms/step\n",
            "1/1 [==============================] - 0s 26ms/step\n",
            "1/1 [==============================] - 0s 25ms/step\n",
            "1/1 [==============================] - 0s 27ms/step\n",
            "1/1 [==============================] - 0s 33ms/step\n",
            "1/1 [==============================] - 0s 25ms/step\n",
            "1/1 [==============================] - 0s 28ms/step\n",
            "1/1 [==============================] - 0s 30ms/step\n",
            "1/1 [==============================] - 0s 26ms/step\n",
            "1/1 [==============================] - 0s 23ms/step\n",
            "1/1 [==============================] - 0s 27ms/step\n",
            "1/1 [==============================] - 0s 25ms/step\n",
            "1/1 [==============================] - 0s 27ms/step\n",
            "1/1 [==============================] - 0s 27ms/step\n",
            "1/1 [==============================] - 0s 31ms/step\n",
            "1/1 [==============================] - 0s 28ms/step\n",
            "1/1 [==============================] - 0s 26ms/step\n",
            "1/1 [==============================] - 0s 23ms/step\n",
            "1/1 [==============================] - 0s 26ms/step\n",
            "1/1 [==============================] - 0s 25ms/step\n",
            "1/1 [==============================] - 0s 25ms/step\n",
            "1/1 [==============================] - 0s 25ms/step\n",
            "1/1 [==============================] - 0s 24ms/step\n",
            "1/1 [==============================] - 0s 23ms/step\n",
            "1/1 [==============================] - 0s 24ms/step\n",
            "1/1 [==============================] - 0s 22ms/step\n",
            "1/1 [==============================] - 0s 23ms/step\n",
            "Training Loss: 1.2171832769585487, Validation Loss: 1.2416414161292246\n",
            "Epoch 7/12\n",
            "1/1 [==============================] - 0s 30ms/step\n",
            "1/1 [==============================] - 0s 36ms/step\n",
            "1/1 [==============================] - 0s 32ms/step\n",
            "1/1 [==============================] - 0s 29ms/step\n",
            "1/1 [==============================] - 0s 28ms/step\n",
            "1/1 [==============================] - 0s 30ms/step\n",
            "1/1 [==============================] - 0s 27ms/step\n",
            "1/1 [==============================] - 0s 28ms/step\n",
            "1/1 [==============================] - 0s 30ms/step\n",
            "1/1 [==============================] - 0s 32ms/step\n",
            "1/1 [==============================] - 0s 36ms/step\n",
            "1/1 [==============================] - 0s 31ms/step\n",
            "1/1 [==============================] - 0s 30ms/step\n",
            "1/1 [==============================] - 0s 30ms/step\n",
            "1/1 [==============================] - 0s 29ms/step\n",
            "1/1 [==============================] - 0s 31ms/step\n",
            "1/1 [==============================] - 0s 29ms/step\n",
            "1/1 [==============================] - 0s 29ms/step\n",
            "1/1 [==============================] - 0s 41ms/step\n",
            "1/1 [==============================] - 0s 29ms/step\n",
            "1/1 [==============================] - 0s 31ms/step\n",
            "1/1 [==============================] - 0s 27ms/step\n",
            "1/1 [==============================] - 0s 27ms/step\n",
            "1/1 [==============================] - 0s 26ms/step\n",
            "1/1 [==============================] - 0s 30ms/step\n",
            "1/1 [==============================] - 0s 26ms/step\n",
            "1/1 [==============================] - 0s 28ms/step\n",
            "1/1 [==============================] - 0s 28ms/step\n",
            "1/1 [==============================] - 0s 35ms/step\n",
            "1/1 [==============================] - 0s 32ms/step\n",
            "1/1 [==============================] - 0s 27ms/step\n",
            "1/1 [==============================] - 0s 28ms/step\n",
            "1/1 [==============================] - 0s 28ms/step\n",
            "1/1 [==============================] - 0s 28ms/step\n",
            "1/1 [==============================] - 0s 31ms/step\n",
            "1/1 [==============================] - 0s 29ms/step\n",
            "1/1 [==============================] - 0s 29ms/step\n",
            "1/1 [==============================] - 0s 32ms/step\n",
            "1/1 [==============================] - 0s 38ms/step\n",
            "1/1 [==============================] - 0s 33ms/step\n",
            "1/1 [==============================] - 0s 32ms/step\n",
            "1/1 [==============================] - 0s 30ms/step\n",
            "1/1 [==============================] - 0s 28ms/step\n",
            "1/1 [==============================] - 0s 32ms/step\n",
            "1/1 [==============================] - 0s 25ms/step\n",
            "1/1 [==============================] - 0s 28ms/step\n",
            "1/1 [==============================] - 0s 32ms/step\n",
            "1/1 [==============================] - 0s 30ms/step\n",
            "1/1 [==============================] - 0s 32ms/step\n",
            "1/1 [==============================] - 0s 31ms/step\n",
            "1/1 [==============================] - 0s 30ms/step\n",
            "1/1 [==============================] - 0s 28ms/step\n",
            "1/1 [==============================] - 0s 30ms/step\n",
            "1/1 [==============================] - 0s 30ms/step\n",
            "1/1 [==============================] - 0s 33ms/step\n",
            "1/1 [==============================] - 0s 36ms/step\n",
            "1/1 [==============================] - 0s 29ms/step\n",
            "1/1 [==============================] - 0s 37ms/step\n",
            "1/1 [==============================] - 0s 29ms/step\n",
            "1/1 [==============================] - 0s 27ms/step\n",
            "1/1 [==============================] - 0s 29ms/step\n",
            "1/1 [==============================] - 0s 28ms/step\n",
            "1/1 [==============================] - 0s 29ms/step\n",
            "1/1 [==============================] - 0s 27ms/step\n",
            "1/1 [==============================] - 0s 29ms/step\n",
            "1/1 [==============================] - 0s 31ms/step\n",
            "1/1 [==============================] - 0s 28ms/step\n",
            "1/1 [==============================] - 0s 31ms/step\n",
            "1/1 [==============================] - 0s 28ms/step\n",
            "1/1 [==============================] - 0s 31ms/step\n",
            "1/1 [==============================] - 0s 27ms/step\n",
            "1/1 [==============================] - 0s 28ms/step\n",
            "1/1 [==============================] - 0s 25ms/step\n",
            "1/1 [==============================] - 0s 35ms/step\n",
            "1/1 [==============================] - 0s 27ms/step\n",
            "1/1 [==============================] - 0s 28ms/step\n",
            "1/1 [==============================] - 0s 28ms/step\n",
            "1/1 [==============================] - 0s 40ms/step\n",
            "1/1 [==============================] - 0s 28ms/step\n",
            "1/1 [==============================] - 0s 26ms/step\n",
            "1/1 [==============================] - 0s 25ms/step\n",
            "1/1 [==============================] - 0s 26ms/step\n",
            "Training Loss: 1.1740835708083825, Validation Loss: 1.289603548688763\n",
            "Epoch 8/12\n",
            "1/1 [==============================] - 0s 46ms/step\n",
            "1/1 [==============================] - 0s 42ms/step\n",
            "1/1 [==============================] - 0s 39ms/step\n",
            "1/1 [==============================] - 0s 43ms/step\n",
            "1/1 [==============================] - 0s 41ms/step\n",
            "1/1 [==============================] - 0s 44ms/step\n",
            "1/1 [==============================] - 0s 26ms/step\n",
            "1/1 [==============================] - 0s 26ms/step\n",
            "1/1 [==============================] - 0s 29ms/step\n",
            "1/1 [==============================] - 0s 28ms/step\n",
            "1/1 [==============================] - 0s 30ms/step\n",
            "1/1 [==============================] - 0s 27ms/step\n",
            "1/1 [==============================] - 0s 25ms/step\n",
            "1/1 [==============================] - 0s 27ms/step\n",
            "1/1 [==============================] - 0s 31ms/step\n",
            "1/1 [==============================] - 0s 26ms/step\n",
            "1/1 [==============================] - 0s 26ms/step\n",
            "1/1 [==============================] - 0s 28ms/step\n",
            "1/1 [==============================] - 0s 29ms/step\n",
            "1/1 [==============================] - 0s 29ms/step\n",
            "1/1 [==============================] - 0s 29ms/step\n",
            "1/1 [==============================] - 0s 27ms/step\n",
            "1/1 [==============================] - 0s 30ms/step\n",
            "1/1 [==============================] - 0s 31ms/step\n",
            "1/1 [==============================] - 0s 26ms/step\n",
            "1/1 [==============================] - 0s 24ms/step\n",
            "1/1 [==============================] - 0s 30ms/step\n",
            "1/1 [==============================] - 0s 27ms/step\n",
            "1/1 [==============================] - 0s 29ms/step\n",
            "1/1 [==============================] - 0s 30ms/step\n",
            "1/1 [==============================] - 0s 27ms/step\n",
            "1/1 [==============================] - 0s 26ms/step\n",
            "1/1 [==============================] - 0s 25ms/step\n",
            "1/1 [==============================] - 0s 34ms/step\n",
            "1/1 [==============================] - 0s 30ms/step\n",
            "1/1 [==============================] - 0s 28ms/step\n",
            "1/1 [==============================] - 0s 32ms/step\n",
            "1/1 [==============================] - 0s 30ms/step\n",
            "1/1 [==============================] - 0s 28ms/step\n",
            "1/1 [==============================] - 0s 27ms/step\n",
            "1/1 [==============================] - 0s 32ms/step\n",
            "1/1 [==============================] - 0s 28ms/step\n",
            "1/1 [==============================] - 0s 25ms/step\n",
            "1/1 [==============================] - 0s 26ms/step\n",
            "1/1 [==============================] - 0s 29ms/step\n",
            "1/1 [==============================] - 0s 30ms/step\n",
            "1/1 [==============================] - 0s 30ms/step\n",
            "1/1 [==============================] - 0s 28ms/step\n",
            "1/1 [==============================] - 0s 30ms/step\n",
            "1/1 [==============================] - 0s 29ms/step\n",
            "1/1 [==============================] - 0s 31ms/step\n",
            "1/1 [==============================] - 0s 27ms/step\n",
            "1/1 [==============================] - 0s 30ms/step\n",
            "1/1 [==============================] - 0s 37ms/step\n",
            "1/1 [==============================] - 0s 30ms/step\n",
            "1/1 [==============================] - 0s 28ms/step\n",
            "1/1 [==============================] - 0s 35ms/step\n",
            "1/1 [==============================] - 0s 28ms/step\n",
            "1/1 [==============================] - 0s 26ms/step\n",
            "1/1 [==============================] - 0s 27ms/step\n",
            "1/1 [==============================] - 0s 29ms/step\n",
            "1/1 [==============================] - 0s 31ms/step\n",
            "1/1 [==============================] - 0s 33ms/step\n",
            "1/1 [==============================] - 0s 33ms/step\n",
            "1/1 [==============================] - 0s 30ms/step\n",
            "1/1 [==============================] - 0s 30ms/step\n",
            "1/1 [==============================] - 0s 32ms/step\n",
            "1/1 [==============================] - 0s 30ms/step\n",
            "1/1 [==============================] - 0s 30ms/step\n",
            "1/1 [==============================] - 0s 30ms/step\n",
            "1/1 [==============================] - 0s 28ms/step\n",
            "1/1 [==============================] - 0s 25ms/step\n",
            "1/1 [==============================] - 0s 32ms/step\n",
            "1/1 [==============================] - 0s 26ms/step\n",
            "1/1 [==============================] - 0s 27ms/step\n",
            "1/1 [==============================] - 0s 30ms/step\n",
            "1/1 [==============================] - 0s 27ms/step\n",
            "1/1 [==============================] - 0s 27ms/step\n",
            "1/1 [==============================] - 0s 26ms/step\n",
            "1/1 [==============================] - 0s 26ms/step\n",
            "1/1 [==============================] - 0s 25ms/step\n",
            "1/1 [==============================] - 0s 27ms/step\n",
            "Training Loss: 1.0529523591113967, Validation Loss: 1.1524647630001532\n",
            "Epoch 9/12\n",
            "1/1 [==============================] - 0s 40ms/step\n",
            "1/1 [==============================] - 0s 42ms/step\n",
            "1/1 [==============================] - 0s 56ms/step\n",
            "1/1 [==============================] - 0s 39ms/step\n",
            "1/1 [==============================] - 0s 47ms/step\n",
            "1/1 [==============================] - 0s 39ms/step\n",
            "1/1 [==============================] - 0s 37ms/step\n",
            "1/1 [==============================] - 0s 38ms/step\n",
            "1/1 [==============================] - 0s 46ms/step\n",
            "1/1 [==============================] - 0s 43ms/step\n",
            "1/1 [==============================] - 0s 26ms/step\n",
            "1/1 [==============================] - 0s 27ms/step\n",
            "1/1 [==============================] - 0s 27ms/step\n",
            "1/1 [==============================] - 0s 36ms/step\n",
            "1/1 [==============================] - 0s 26ms/step\n",
            "1/1 [==============================] - 0s 25ms/step\n",
            "1/1 [==============================] - 0s 24ms/step\n",
            "1/1 [==============================] - 0s 32ms/step\n",
            "1/1 [==============================] - 0s 25ms/step\n",
            "1/1 [==============================] - 0s 26ms/step\n",
            "1/1 [==============================] - 0s 25ms/step\n",
            "1/1 [==============================] - 0s 24ms/step\n",
            "1/1 [==============================] - 0s 24ms/step\n",
            "1/1 [==============================] - 0s 25ms/step\n",
            "1/1 [==============================] - 0s 27ms/step\n",
            "1/1 [==============================] - 0s 26ms/step\n",
            "1/1 [==============================] - 0s 28ms/step\n",
            "1/1 [==============================] - 0s 27ms/step\n",
            "1/1 [==============================] - 0s 26ms/step\n",
            "1/1 [==============================] - 0s 27ms/step\n",
            "1/1 [==============================] - 0s 27ms/step\n",
            "1/1 [==============================] - 0s 27ms/step\n",
            "1/1 [==============================] - 0s 28ms/step\n",
            "1/1 [==============================] - 0s 25ms/step\n",
            "1/1 [==============================] - 0s 24ms/step\n",
            "1/1 [==============================] - 0s 27ms/step\n",
            "1/1 [==============================] - 0s 27ms/step\n",
            "1/1 [==============================] - 0s 28ms/step\n",
            "1/1 [==============================] - 0s 28ms/step\n",
            "1/1 [==============================] - 0s 26ms/step\n",
            "1/1 [==============================] - 0s 28ms/step\n",
            "1/1 [==============================] - 0s 25ms/step\n",
            "1/1 [==============================] - 0s 25ms/step\n",
            "1/1 [==============================] - 0s 24ms/step\n",
            "1/1 [==============================] - 0s 30ms/step\n",
            "1/1 [==============================] - 0s 26ms/step\n",
            "1/1 [==============================] - 0s 25ms/step\n",
            "1/1 [==============================] - 0s 31ms/step\n",
            "1/1 [==============================] - 0s 26ms/step\n",
            "1/1 [==============================] - 0s 26ms/step\n",
            "1/1 [==============================] - 0s 29ms/step\n",
            "1/1 [==============================] - 0s 25ms/step\n",
            "1/1 [==============================] - 0s 23ms/step\n",
            "1/1 [==============================] - 0s 28ms/step\n",
            "1/1 [==============================] - 0s 29ms/step\n",
            "1/1 [==============================] - 0s 25ms/step\n",
            "1/1 [==============================] - 0s 27ms/step\n",
            "1/1 [==============================] - 0s 26ms/step\n",
            "1/1 [==============================] - 0s 25ms/step\n",
            "1/1 [==============================] - 0s 27ms/step\n",
            "1/1 [==============================] - 0s 26ms/step\n",
            "1/1 [==============================] - 0s 25ms/step\n",
            "1/1 [==============================] - 0s 25ms/step\n",
            "1/1 [==============================] - 0s 25ms/step\n",
            "1/1 [==============================] - 0s 27ms/step\n",
            "1/1 [==============================] - 0s 27ms/step\n",
            "1/1 [==============================] - 0s 27ms/step\n",
            "1/1 [==============================] - 0s 25ms/step\n",
            "1/1 [==============================] - 0s 25ms/step\n",
            "1/1 [==============================] - 0s 28ms/step\n",
            "1/1 [==============================] - 0s 27ms/step\n",
            "1/1 [==============================] - 0s 29ms/step\n",
            "1/1 [==============================] - 0s 33ms/step\n",
            "1/1 [==============================] - 0s 24ms/step\n",
            "1/1 [==============================] - 0s 24ms/step\n",
            "1/1 [==============================] - 0s 29ms/step\n",
            "1/1 [==============================] - 0s 28ms/step\n",
            "1/1 [==============================] - 0s 25ms/step\n",
            "1/1 [==============================] - 0s 25ms/step\n",
            "1/1 [==============================] - 0s 27ms/step\n",
            "1/1 [==============================] - 0s 26ms/step\n",
            "1/1 [==============================] - 0s 32ms/step\n",
            "Training Loss: 1.1364760508189378, Validation Loss: 1.3243499636010245\n",
            "Epoch 10/12\n",
            "1/1 [==============================] - 0s 52ms/step\n",
            "1/1 [==============================] - 0s 40ms/step\n",
            "1/1 [==============================] - 0s 36ms/step\n",
            "1/1 [==============================] - 0s 40ms/step\n",
            "1/1 [==============================] - 0s 38ms/step\n",
            "1/1 [==============================] - 0s 37ms/step\n",
            "1/1 [==============================] - 0s 43ms/step\n",
            "1/1 [==============================] - 0s 39ms/step\n",
            "1/1 [==============================] - 0s 38ms/step\n",
            "1/1 [==============================] - 0s 38ms/step\n",
            "1/1 [==============================] - 0s 38ms/step\n",
            "1/1 [==============================] - 0s 42ms/step\n",
            "1/1 [==============================] - 0s 41ms/step\n",
            "1/1 [==============================] - 0s 46ms/step\n",
            "1/1 [==============================] - 0s 37ms/step\n",
            "1/1 [==============================] - 0s 49ms/step\n",
            "1/1 [==============================] - 0s 36ms/step\n",
            "1/1 [==============================] - 0s 42ms/step\n",
            "1/1 [==============================] - 0s 38ms/step\n",
            "1/1 [==============================] - 0s 46ms/step\n",
            "1/1 [==============================] - 0s 40ms/step\n",
            "1/1 [==============================] - 0s 38ms/step\n",
            "1/1 [==============================] - 0s 57ms/step\n",
            "1/1 [==============================] - 0s 42ms/step\n",
            "1/1 [==============================] - 0s 35ms/step\n",
            "1/1 [==============================] - 0s 37ms/step\n",
            "1/1 [==============================] - 0s 40ms/step\n",
            "1/1 [==============================] - 0s 42ms/step\n",
            "1/1 [==============================] - 0s 35ms/step\n",
            "1/1 [==============================] - 0s 43ms/step\n",
            "1/1 [==============================] - 0s 36ms/step\n",
            "1/1 [==============================] - 0s 38ms/step\n",
            "1/1 [==============================] - 0s 46ms/step\n",
            "1/1 [==============================] - 0s 30ms/step\n",
            "1/1 [==============================] - 0s 28ms/step\n",
            "1/1 [==============================] - 0s 25ms/step\n",
            "1/1 [==============================] - 0s 25ms/step\n",
            "1/1 [==============================] - 0s 25ms/step\n",
            "1/1 [==============================] - 0s 26ms/step\n",
            "1/1 [==============================] - 0s 29ms/step\n",
            "1/1 [==============================] - 0s 25ms/step\n",
            "1/1 [==============================] - 0s 24ms/step\n",
            "1/1 [==============================] - 0s 26ms/step\n",
            "1/1 [==============================] - 0s 25ms/step\n",
            "1/1 [==============================] - 0s 25ms/step\n",
            "1/1 [==============================] - 0s 24ms/step\n",
            "1/1 [==============================] - 0s 26ms/step\n",
            "1/1 [==============================] - 0s 24ms/step\n",
            "1/1 [==============================] - 0s 26ms/step\n",
            "1/1 [==============================] - 0s 29ms/step\n",
            "1/1 [==============================] - 0s 27ms/step\n",
            "1/1 [==============================] - 0s 27ms/step\n",
            "1/1 [==============================] - 0s 26ms/step\n",
            "1/1 [==============================] - 0s 29ms/step\n",
            "1/1 [==============================] - 0s 26ms/step\n",
            "1/1 [==============================] - 0s 25ms/step\n",
            "1/1 [==============================] - 0s 25ms/step\n",
            "1/1 [==============================] - 0s 27ms/step\n",
            "1/1 [==============================] - 0s 24ms/step\n",
            "1/1 [==============================] - 0s 24ms/step\n",
            "1/1 [==============================] - 0s 24ms/step\n",
            "1/1 [==============================] - 0s 25ms/step\n",
            "1/1 [==============================] - 0s 27ms/step\n",
            "1/1 [==============================] - 0s 27ms/step\n",
            "1/1 [==============================] - 0s 24ms/step\n",
            "1/1 [==============================] - 0s 29ms/step\n",
            "1/1 [==============================] - 0s 26ms/step\n",
            "1/1 [==============================] - 0s 25ms/step\n",
            "1/1 [==============================] - 0s 25ms/step\n",
            "1/1 [==============================] - 0s 24ms/step\n",
            "1/1 [==============================] - 0s 36ms/step\n",
            "1/1 [==============================] - 0s 25ms/step\n",
            "1/1 [==============================] - 0s 26ms/step\n",
            "1/1 [==============================] - 0s 25ms/step\n",
            "1/1 [==============================] - 0s 27ms/step\n",
            "1/1 [==============================] - 0s 25ms/step\n",
            "1/1 [==============================] - 0s 25ms/step\n",
            "1/1 [==============================] - 0s 25ms/step\n",
            "1/1 [==============================] - 0s 25ms/step\n",
            "1/1 [==============================] - 0s 27ms/step\n",
            "1/1 [==============================] - 0s 28ms/step\n",
            "1/1 [==============================] - 0s 27ms/step\n",
            "Training Loss: 1.0382604204851584, Validation Loss: 1.2612037395909992\n",
            "Epoch 11/12\n",
            "1/1 [==============================] - 0s 25ms/step\n",
            "1/1 [==============================] - 0s 26ms/step\n",
            "1/1 [==============================] - 0s 26ms/step\n",
            "1/1 [==============================] - 0s 28ms/step\n",
            "1/1 [==============================] - 0s 25ms/step\n",
            "1/1 [==============================] - 0s 23ms/step\n",
            "1/1 [==============================] - 0s 25ms/step\n",
            "1/1 [==============================] - 0s 26ms/step\n",
            "1/1 [==============================] - 0s 24ms/step\n",
            "1/1 [==============================] - 0s 26ms/step\n",
            "1/1 [==============================] - 0s 26ms/step\n",
            "1/1 [==============================] - 0s 28ms/step\n",
            "1/1 [==============================] - 0s 26ms/step\n",
            "1/1 [==============================] - 0s 24ms/step\n",
            "1/1 [==============================] - 0s 42ms/step\n",
            "1/1 [==============================] - 0s 35ms/step\n",
            "1/1 [==============================] - 0s 41ms/step\n",
            "1/1 [==============================] - 0s 38ms/step\n",
            "1/1 [==============================] - 0s 35ms/step\n",
            "1/1 [==============================] - 0s 34ms/step\n",
            "1/1 [==============================] - 0s 41ms/step\n",
            "1/1 [==============================] - 0s 42ms/step\n",
            "1/1 [==============================] - 0s 34ms/step\n",
            "1/1 [==============================] - 0s 39ms/step\n",
            "1/1 [==============================] - 0s 36ms/step\n",
            "1/1 [==============================] - 0s 36ms/step\n",
            "1/1 [==============================] - 0s 36ms/step\n",
            "1/1 [==============================] - 0s 45ms/step\n",
            "1/1 [==============================] - 0s 36ms/step\n",
            "1/1 [==============================] - 0s 39ms/step\n",
            "1/1 [==============================] - 0s 38ms/step\n",
            "1/1 [==============================] - 0s 41ms/step\n",
            "1/1 [==============================] - 0s 41ms/step\n",
            "1/1 [==============================] - 0s 37ms/step\n",
            "1/1 [==============================] - 0s 36ms/step\n",
            "1/1 [==============================] - 0s 50ms/step\n",
            "1/1 [==============================] - 0s 37ms/step\n",
            "1/1 [==============================] - 0s 35ms/step\n",
            "1/1 [==============================] - 0s 35ms/step\n",
            "1/1 [==============================] - 0s 38ms/step\n",
            "1/1 [==============================] - 0s 34ms/step\n",
            "1/1 [==============================] - 0s 40ms/step\n",
            "1/1 [==============================] - 0s 41ms/step\n",
            "1/1 [==============================] - 0s 49ms/step\n",
            "1/1 [==============================] - 0s 40ms/step\n",
            "1/1 [==============================] - 0s 37ms/step\n",
            "1/1 [==============================] - 0s 39ms/step\n",
            "1/1 [==============================] - 0s 38ms/step\n",
            "1/1 [==============================] - 0s 37ms/step\n",
            "1/1 [==============================] - 0s 42ms/step\n",
            "1/1 [==============================] - 0s 34ms/step\n",
            "1/1 [==============================] - 0s 45ms/step\n",
            "1/1 [==============================] - 0s 35ms/step\n",
            "1/1 [==============================] - 0s 26ms/step\n",
            "1/1 [==============================] - 0s 25ms/step\n",
            "1/1 [==============================] - 0s 24ms/step\n",
            "1/1 [==============================] - 0s 26ms/step\n",
            "1/1 [==============================] - 0s 26ms/step\n",
            "1/1 [==============================] - 0s 25ms/step\n",
            "1/1 [==============================] - 0s 38ms/step\n",
            "1/1 [==============================] - 0s 25ms/step\n",
            "1/1 [==============================] - 0s 26ms/step\n",
            "1/1 [==============================] - 0s 25ms/step\n",
            "1/1 [==============================] - 0s 27ms/step\n",
            "1/1 [==============================] - 0s 25ms/step\n",
            "1/1 [==============================] - 0s 24ms/step\n",
            "1/1 [==============================] - 0s 24ms/step\n",
            "1/1 [==============================] - 0s 23ms/step\n",
            "1/1 [==============================] - 0s 28ms/step\n",
            "1/1 [==============================] - 0s 26ms/step\n",
            "1/1 [==============================] - 0s 26ms/step\n",
            "1/1 [==============================] - 0s 26ms/step\n",
            "1/1 [==============================] - 0s 24ms/step\n",
            "1/1 [==============================] - 0s 24ms/step\n",
            "1/1 [==============================] - 0s 33ms/step\n",
            "1/1 [==============================] - 0s 25ms/step\n",
            "1/1 [==============================] - 0s 26ms/step\n",
            "1/1 [==============================] - 0s 24ms/step\n",
            "1/1 [==============================] - 0s 25ms/step\n",
            "1/1 [==============================] - 0s 30ms/step\n",
            "1/1 [==============================] - 0s 38ms/step\n",
            "1/1 [==============================] - 0s 30ms/step\n",
            "Training Loss: 1.044721770411163, Validation Loss: 1.2152407716380922\n",
            "Epoch 12/12\n",
            "1/1 [==============================] - 0s 35ms/step\n",
            "1/1 [==============================] - 0s 30ms/step\n",
            "1/1 [==============================] - 0s 31ms/step\n",
            "1/1 [==============================] - 0s 34ms/step\n",
            "1/1 [==============================] - 0s 30ms/step\n",
            "1/1 [==============================] - 0s 30ms/step\n",
            "1/1 [==============================] - 0s 34ms/step\n",
            "1/1 [==============================] - 0s 35ms/step\n",
            "1/1 [==============================] - 0s 34ms/step\n",
            "1/1 [==============================] - 0s 32ms/step\n",
            "1/1 [==============================] - 0s 35ms/step\n",
            "1/1 [==============================] - 0s 46ms/step\n",
            "1/1 [==============================] - 0s 48ms/step\n",
            "1/1 [==============================] - 0s 42ms/step\n",
            "1/1 [==============================] - 0s 44ms/step\n",
            "1/1 [==============================] - 0s 46ms/step\n",
            "1/1 [==============================] - 0s 54ms/step\n",
            "1/1 [==============================] - 0s 60ms/step\n",
            "1/1 [==============================] - 0s 44ms/step\n",
            "1/1 [==============================] - 0s 40ms/step\n",
            "1/1 [==============================] - 0s 52ms/step\n",
            "1/1 [==============================] - 0s 40ms/step\n",
            "1/1 [==============================] - 0s 44ms/step\n",
            "1/1 [==============================] - 0s 43ms/step\n",
            "1/1 [==============================] - 0s 54ms/step\n",
            "1/1 [==============================] - 0s 47ms/step\n",
            "1/1 [==============================] - 0s 42ms/step\n",
            "1/1 [==============================] - 0s 46ms/step\n",
            "1/1 [==============================] - 0s 44ms/step\n",
            "1/1 [==============================] - 0s 40ms/step\n",
            "1/1 [==============================] - 0s 51ms/step\n",
            "1/1 [==============================] - 0s 44ms/step\n",
            "1/1 [==============================] - 0s 39ms/step\n",
            "1/1 [==============================] - 0s 47ms/step\n",
            "1/1 [==============================] - 0s 44ms/step\n",
            "1/1 [==============================] - 0s 46ms/step\n",
            "1/1 [==============================] - 0s 41ms/step\n",
            "1/1 [==============================] - 0s 59ms/step\n",
            "1/1 [==============================] - 0s 42ms/step\n",
            "1/1 [==============================] - 0s 46ms/step\n",
            "1/1 [==============================] - 0s 41ms/step\n",
            "1/1 [==============================] - 0s 42ms/step\n",
            "1/1 [==============================] - 0s 40ms/step\n",
            "1/1 [==============================] - 0s 33ms/step\n",
            "1/1 [==============================] - 0s 40ms/step\n",
            "1/1 [==============================] - 0s 28ms/step\n",
            "1/1 [==============================] - 0s 28ms/step\n",
            "1/1 [==============================] - 0s 28ms/step\n",
            "1/1 [==============================] - 0s 26ms/step\n",
            "1/1 [==============================] - 0s 28ms/step\n",
            "1/1 [==============================] - 0s 26ms/step\n",
            "1/1 [==============================] - 0s 30ms/step\n",
            "1/1 [==============================] - 0s 29ms/step\n",
            "1/1 [==============================] - 0s 27ms/step\n",
            "1/1 [==============================] - 0s 29ms/step\n",
            "1/1 [==============================] - 0s 29ms/step\n",
            "1/1 [==============================] - 0s 26ms/step\n",
            "1/1 [==============================] - 0s 29ms/step\n",
            "1/1 [==============================] - 0s 26ms/step\n",
            "1/1 [==============================] - 0s 26ms/step\n",
            "1/1 [==============================] - 0s 34ms/step\n",
            "1/1 [==============================] - 0s 30ms/step\n",
            "1/1 [==============================] - 0s 29ms/step\n",
            "1/1 [==============================] - 0s 30ms/step\n",
            "1/1 [==============================] - 0s 26ms/step\n",
            "1/1 [==============================] - 0s 30ms/step\n",
            "1/1 [==============================] - 0s 27ms/step\n",
            "1/1 [==============================] - 0s 28ms/step\n",
            "1/1 [==============================] - 0s 31ms/step\n",
            "1/1 [==============================] - 0s 34ms/step\n",
            "1/1 [==============================] - 0s 32ms/step\n",
            "1/1 [==============================] - 0s 32ms/step\n",
            "1/1 [==============================] - 0s 34ms/step\n",
            "1/1 [==============================] - 0s 33ms/step\n",
            "1/1 [==============================] - 0s 33ms/step\n",
            "1/1 [==============================] - 0s 33ms/step\n",
            "1/1 [==============================] - 0s 27ms/step\n",
            "1/1 [==============================] - 0s 25ms/step\n",
            "1/1 [==============================] - 0s 31ms/step\n",
            "1/1 [==============================] - 0s 31ms/step\n",
            "1/1 [==============================] - 0s 30ms/step\n",
            "1/1 [==============================] - 0s 32ms/step\n",
            "Training Loss: 0.9770204882373676, Validation Loss: 1.0208106922417335\n"
          ]
        },
        {
          "output_type": "display_data",
          "data": {
            "text/plain": [
              "<Figure size 1000x600 with 1 Axes>"
            ],
            "image/png": "[encoded data removed]"
          },
          "metadata": {}
        }
      ],
      "source": [
        "import tensorflow as tf\n",
        "from sklearn.metrics import mean_squared_error\n",
        "\n",
        "for epoch in range(epochs):\n",
        "    print(f\"Epoch {epoch+1}/{epochs}\")\n",
        "    total_train_loss = 0\n",
        "    total_val_loss = 0\n",
        "\n",
        "    # Eğitim döngüsü\n",
        "    for i in range(len(X_train)):\n",
        "        with tf.GradientTape() as tape:\n",
        "            y_pred = model(X_train[i:i+1], training=True)\n",
        "            train_loss = loss_fn(y_train[i], y_pred[0, :len(y_train[i]), 0])\n",
        "        gradients = tape.gradient(train_loss, model.trainable_variables)\n",
        "        optimizer.apply_gradients(zip(gradients, model.trainable_variables))\n",
        "        total_train_loss += train_loss.numpy()\n",
        "\n",
        "    # Doğrulama döngüsü\n",
        "    for i in range(len(X_val)):\n",
        "        # X_val[i:i+1] dizisini tensöre dönüştür\n",
        "        X_val_tensor = tf.convert_to_tensor(X_val[i:i+1], dtype=tf.float32)\n",
        "        y_pred_val = model.predict(X_val_tensor)\n",
        "\n",
        "        # y_val[i] dizisini tensöre dönüştür\n",
        "        y_val_tensor = tf.convert_to_tensor(y_val[i], dtype=tf.float32)\n",
        "\n",
        "        # Tahmin ve gerçek değerlerin boyutlarını eşitle\n",
        "        min_length = min(y_pred_val.shape[1], len(y_val[i]))\n",
        "        val_loss = loss_fn(y_val_tensor[:min_length], y_pred_val[0, :min_length, 0])\n",
        "\n",
        "        total_val_loss += val_loss.numpy()\n",
        "\n",
        "    # Ortalama kayıpları hesapla ve kaydet\n",
        "    avg_train_loss = total_train_loss / len(X_train)\n",
        "    avg_val_loss = total_val_loss / len(X_val)\n",
        "    train_losses.append(avg_train_loss)\n",
        "    val_losses.append(avg_val_loss)\n",
        "\n",
        "    if avg_val_loss < best_val_loss:\n",
        "        best_val_loss = avg_val_loss\n",
        "        best_weights = model.get_weights()\n",
        "\n",
        "    print(f\"Training Loss: {avg_train_loss}, Validation Loss: {avg_val_loss}\")\n",
        "\n",
        "\n",
        "if best_weights:\n",
        "    model.set_weights(best_weights)\n",
        "\n",
        "# Kayıpları grafik üzerinde görselleştirme\n",
        "import matplotlib.pyplot as plt\n",
        "\n",
        "plt.figure(figsize=(10, 6))\n",
        "plt.plot(train_losses, label='Training Loss')\n",
        "plt.plot(val_losses, label='Validation Loss')\n",
        "plt.title('Train & Validation Loss')\n",
        "plt.xlabel('Epoch')\n",
        "plt.ylabel('Loss')\n",
        "plt.legend()\n",
        "plt.show()\n"
      ]
    },
    {
      "cell_type": "code",
      "execution_count": 154,
      "metadata": {
        "id": "8OBatZOUNf6l",
        "colab": {
          "base_uri": "https://localhost:8080/",
          "height": 545
        },
        "outputId": "0c4cf787-e077-41a5-dcf3-3c2f32c8251d"
      },
      "outputs": [
        {
          "output_type": "display_data",
          "data": {
            "text/plain": [
              "<Figure size 1000x600 with 1 Axes>"
            ],
            "image/png": "[encoded data removed]"
          },
          "metadata": {}
        }
      ],
      "source": [
        "import matplotlib.pyplot as plt\n",
        "\n",
        "plt.figure(figsize=(10, 6))\n",
        "plt.plot(train_losses, label='Training Loss')\n",
        "plt.plot(val_losses, label='Validation Loss')\n",
        "plt.title('Train & Validation Loss')\n",
        "plt.xlabel('Epoch')\n",
        "plt.ylabel('Loss')\n",
        "plt.legend()\n",
        "plt.show()"
      ]
    },
    {
      "cell_type": "code",
      "execution_count": 155,
      "metadata": {
        "id": "5rf9DuGp9wYH",
        "colab": {
          "base_uri": "https://localhost:8080/"
        },
        "outputId": "94751984-ce27-46de-fff2-cad78a166632"
      },
      "outputs": [
        {
          "output_type": "stream",
          "name": "stdout",
          "text": [
            "4/4 [==============================] - 0s 8ms/step\n"
          ]
        }
      ],
      "source": [
        "# Test veri seti üzerinde tahmin yapma\n",
        "y_pred = model.predict(X_test)\n"
      ]
    },
    {
      "cell_type": "code",
      "execution_count": 156,
      "metadata": {
        "id": "xYhCNTOhM4tT",
        "colab": {
          "base_uri": "https://localhost:8080/"
        },
        "outputId": "f09546f8-bbbc-43ad-822f-58951599f1e1"
      },
      "outputs": [
        {
          "output_type": "stream",
          "name": "stdout",
          "text": [
            "Mean Squared Error: 0.83\n",
            "Mean Absolute Error: 0.66\n",
            "R2 Score: 0.62\n"
          ]
        }
      ],
      "source": [
        "from sklearn.metrics import mean_squared_error, mean_absolute_error, r2_score\n",
        "import numpy as np\n",
        "def calculate_metrics(y_true, y_pred):\n",
        "    mse_values = []\n",
        "    mae_values = []\n",
        "    r2_values = []\n",
        "\n",
        "    for i in range(len(y_true)):\n",
        "        true_values = np.array(y_true[i])\n",
        "        pred_values = y_pred[i, :len(y_true[i]), 0]\n",
        "\n",
        "        mse = mean_squared_error(true_values, pred_values)\n",
        "        mae = mean_absolute_error(true_values, pred_values)\n",
        "\n",
        "        mse_values.append(mse)\n",
        "        mae_values.append(mae)\n",
        "\n",
        "        # R2 skorunu yalnızca birden fazla değeri olan örnekler için hesap\n",
        "        if len(true_values) > 1:\n",
        "            r2 = r2_score(true_values, pred_values)\n",
        "            r2_values.append(r2)\n",
        "\n",
        "    return np.mean(mse_values), np.mean(mae_values), np.mean(r2_values) if r2_values else np.nan\n",
        "\n",
        "# Hata metriklerini hesaplama\n",
        "mse, mae, r2 = calculate_metrics(y_test, y_pred)\n",
        "\n",
        "print(\"Mean Squared Error:\", \"{:.2f}\".format(mse))\n",
        "print(\"Mean Absolute Error:\", \"{:.2f}\".format(mae))\n",
        "print(\"R2 Score:\", \"{:.2f}\".format(r2))\n"
      ]
    },
    {
      "cell_type": "code",
      "execution_count": 123,
      "metadata": {
        "id": "Co90Hhc41kiT",
        "colab": {
          "base_uri": "https://localhost:8080/"
        },
        "outputId": "5ef9555c-52f0-449a-ad5c-0b36e217c94c"
      },
      "outputs": [
        {
          "output_type": "stream",
          "name": "stdout",
          "text": [
            "4/4 [==============================] - 0s 10ms/step\n"
          ]
        }
      ],
      "source": [
        "y_pred = model.predict(X_test)\n"
      ]
    },
    {
      "cell_type": "markdown",
      "metadata": {
        "id": "ytH_wEIS479p"
      },
      "source": [
        "## Anomaly Detection v2 BlackList"
      ]
    },
    {
      "cell_type": "code",
      "execution_count": 79,
      "metadata": {
        "id": "MYTFNAo3peeR",
        "colab": {
          "base_uri": "https://localhost:8080/"
        },
        "outputId": "4adb35b6-ee98-4e57-a4ce-7e01e9564089"
      },
      "outputs": [
        {
          "output_type": "stream",
          "name": "stdout",
          "text": [
            "4/4 [==============================] - 0s 20ms/step\n",
            "11/11 [==============================] - 0s 14ms/step\n"
          ]
        }
      ],
      "source": [
        "\n",
        "def calculate_metrics_by_id(y_true, y_pred, record_ids, r2_threshold):\n",
        "    metrics_by_id = {}\n",
        "    blacklist = []\n",
        "\n",
        "    for i in range(len(y_true)):\n",
        "        record_id = record_ids[i]\n",
        "        true_values = np.array(y_true[i])\n",
        "        pred_values = y_pred[i, :len(y_true[i]), 0]\n",
        "\n",
        "        mse = mean_squared_error(true_values, pred_values)\n",
        "        mae = mean_absolute_error(true_values, pred_values)\n",
        "        r2 = r2_score(true_values, pred_values) if len(true_values) > 1 else np.nan\n",
        "\n",
        "        metrics_by_id[record_id] = {'mse': mse, 'mae': mae, 'r2': r2}\n",
        "\n",
        "        if r2 < r2_threshold:\n",
        "            blacklist.append(record_id)\n",
        "\n",
        "    return metrics_by_id, blacklist\n",
        "\n",
        "total_sample=len(y_test)\n",
        "# Hata metriklerini ve karalisteyi hesapla\n",
        "r2_threshold = 0.3  # Örnek bir eşik değer\n",
        "y_pred = model.predict(X_test)\n",
        "metrics_by_id, blacklist = calculate_metrics_by_id(y_test, y_pred, record_ids_test, r2_threshold)\n",
        "\n",
        "y_pred = model.predict(X_train)\n",
        "total_sample+=len(y_train)\n",
        "metrics_by_id2, blacklist2 = calculate_metrics_by_id(y_train, y_pred, record_ids_train, r2_threshold)\n",
        "\n",
        "filtered_sample_count = total_sample - (len(blacklist) + len(blacklist2) )\n",
        "filtered_sample_count\n",
        "blacklistt = blacklist+blacklist2\n"
      ]
    },
    {
      "cell_type": "code",
      "execution_count": 80,
      "metadata": {
        "id": "VAllwlusMudq",
        "colab": {
          "base_uri": "https://localhost:8080/"
        },
        "outputId": "0cd0f8a7-6bfb-40a1-87ee-3352a2503514"
      },
      "outputs": [
        {
          "output_type": "stream",
          "name": "stdout",
          "text": [
            "409\n",
            "17\n",
            "508\n"
          ]
        }
      ],
      "source": [
        "print(filtered_sample_count)\n",
        "print(len(blacklistt))\n",
        "print(len(df))"
      ]
    },
    {
      "cell_type": "code",
      "execution_count": 81,
      "metadata": {
        "id": "ujfw1KRN4dGw"
      },
      "outputs": [],
      "source": [
        "import csv\n",
        "\n",
        "with open('anomalies11.csv', 'w', newline='') as file:\n",
        "    writer = csv.writer(file)\n",
        "    for record_id in blacklistt:\n",
        "        writer.writerow([record_id])\n"
      ]
    },
    {
      "cell_type": "code",
      "execution_count": null,
      "metadata": {
        "id": "QpmlaZjL63y4"
      },
      "outputs": [],
      "source": [
        "filtered_sample_count"
      ]
    },
    {
      "cell_type": "code",
      "execution_count": null,
      "metadata": {
        "id": "ZvRXZmrWppQO"
      },
      "outputs": [],
      "source": [
        "len(y_pred)"
      ]
    },
    {
      "cell_type": "code",
      "execution_count": null,
      "metadata": {
        "id": "o0GTZwpIO2pp"
      },
      "outputs": [],
      "source": [
        "import matplotlib.pyplot as plt\n",
        "import random\n",
        "\n",
        "selected_indices = random.sample(range(len(y_test)),25)\n",
        "\n",
        "for index in selected_indices:\n",
        "    plt.figure(figsize=(8, 4))  # Grafik boyutu\n",
        "    plt.plot(y_test[index], marker='o', label='y_test')\n",
        "\n",
        "    # y_pred verisini y_test verisinin uzunluğu\n",
        "    y_pred_trimmed = y_pred[index][:len(y_test[index])]\n",
        "    plt.plot(y_pred_trimmed, marker='x', label='y_pred')\n",
        "\n",
        "    plt.xlabel('Time Step')\n",
        "    plt.ylabel('Value')\n",
        "    plt.legend()\n",
        "    plt.grid(True)\n",
        "    plt.title(f'Sample {index + 1}')\n",
        "    plt.show()"
      ]
    },
    {
      "cell_type": "code",
      "execution_count": null,
      "metadata": {
        "id": "dYVXkgQDPA7v"
      },
      "outputs": [],
      "source": [
        "len(df)"
      ]
    },
    {
      "cell_type": "code",
      "execution_count": null,
      "metadata": {
        "id": "Krs5VXobO5gZ"
      },
      "outputs": [],
      "source": [
        "model.save('encoder_decoder_model.h5')\n"
      ]
    },
    {
      "cell_type": "code",
      "execution_count": null,
      "metadata": {
        "id": "h-EHv_GnZkq8"
      },
      "outputs": [],
      "source": [
        "def calculate_metrics_and_blacklist(df, y_true, y_pred, r2_threshold):\n",
        "    mse_values = []\n",
        "    mae_values = []\n",
        "    r2_values = []\n",
        "    blacklist = []\n",
        "\n",
        "    for i, (index, row) in enumerate(df.iterrows()):\n",
        "        record_id = row['Record ID']\n",
        "        true_values = np.array(y_true[i])\n",
        "        pred_values = y_pred[i, :len(y_true[i]), 0]\n",
        "\n",
        "        if len(true_values) > len(pred_values):\n",
        "            true_values = true_values[:len(pred_values)]\n",
        "\n",
        "        mse = mean_squared_error(true_values, pred_values)\n",
        "        mae = mean_absolute_error(true_values, pred_values)\n",
        "        mse_values.append(mse)\n",
        "        mae_values.append(mae)\n",
        "\n",
        "        if len(true_values) > 1:\n",
        "            r2 = r2_score(true_values, pred_values)\n",
        "            r2_values.append(r2)\n",
        "            if r2 < r2_threshold:\n",
        "                blacklist.append(record_id)\n",
        "\n",
        "    return np.mean(mse_values), np.mean(mae_values), np.mean(r2_values), blacklist\n",
        "\n",
        "# Hata metriklerini ve karalisteyi hesapla\n",
        "r2_threshold = 0.5  # Örnek bir eşik değer\n",
        "mse, mae, r2, blacklist = calculate_metrics_and_blacklist(df, y_train, y_pred, r2_threshold)\n",
        "\n",
        "print(\"Mean Squared Error:\", mse)\n",
        "print(\"Mean Absolute Error:\", mae)\n",
        "print(\"R2 Score:\", r2)\n",
        "print(\"Blacklisted Record IDs:\", blacklist)\n"
      ]
    },
    {
      "cell_type": "code",
      "execution_count": null,
      "metadata": {
        "id": "Q5-00Ctlj1R7"
      },
      "outputs": [],
      "source": []
    }
  ],
  "metadata": {
    "colab": {
      "provenance": [],
      "mount_file_id": "1kxjvkkv7IETuYel4Uh51mA5CVs0EWYes",
      "authorship_tag": "ABX9TyPitGlJFSYd+1tgLJvhODQ8",
      "include_colab_link": true
    },
    "kernelspec": {
      "display_name": "Python 3",
      "name": "python3"
    },
    "language_info": {
      "name": "python"
    }
  },
  "nbformat": 4,
  "nbformat_minor": 0
}